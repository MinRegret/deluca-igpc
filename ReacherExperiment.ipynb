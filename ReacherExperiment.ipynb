{
 "cells": [
  {
   "cell_type": "markdown",
   "id": "4b98d502",
   "metadata": {},
   "source": [
    "# [A Regret Minimization Approach to Iterative Learning Control](https://arxiv.org/pdf/2102.13478.pdf )"
   ]
  },
  {
   "cell_type": "code",
   "execution_count": 1,
   "id": "6ca2e881",
   "metadata": {},
   "outputs": [],
   "source": [
    "%load_ext autoreload\n",
    "%autoreload 2"
   ]
  },
  {
   "cell_type": "code",
   "execution_count": 2,
   "id": "251a6682",
   "metadata": {},
   "outputs": [
    {
     "name": "stderr",
     "output_type": "stream",
     "text": [
      "WARNING:absl:No GPU/TPU found, falling back to CPU. (Set TF_CPP_MIN_LOG_LEVEL=0 and rerun for more info.)\n"
     ]
    }
   ],
   "source": [
    "import jax\n",
    "import jax.numpy as jnp\n",
    "from deluca.igpc.ilqr import iLQR\n",
    "from deluca.envs import Reacher"
   ]
  },
  {
   "cell_type": "markdown",
   "id": "a34bbb95",
   "metadata": {},
   "source": [
    "### System - Reacher ([deluca implementation](https://github.com/google/deluca/blob/main/deluca/envs/classic/_reacher.py))\n",
    "### Algorithms Compared\n",
    "* **Closed Loop ILQG** - [Li,Todorov](https://homes.cs.washington.edu/~todorov/papers/LiICINCO04.pdf) ([deluca implementation](https://github.com/MinRegret/deluca-igpc/blob/main/deluca/igpc/ilqr.py))\n",
    "\n",
    "* **iLC - Iterative Learning Control** [Abeel et al.](https://ai.stanford.edu/~ang/papers/icml06-usinginaccuratemodelsinrl.pdf) ([deluca implementation](https://github.com/MinRegret/deluca-igpc/blob/main/deluca/igpc/ilc.py))\n",
    "\n",
    "* **iGPC - Iterative GPC** [Agarwal et. al.](https://arxiv.org/abs/2102.13478) ([deluca implementation](https://github.com/MinRegret/deluca-igpc/blob/main/deluca/igpc/igpc.py)"
   ]
  },
  {
   "cell_type": "code",
   "execution_count": 3,
   "id": "ca0bc412",
   "metadata": {},
   "outputs": [],
   "source": [
    "def cost(x, u, sim):\n",
    "    return 0.1 * u @ u + x.arr[4:] @ x.arr[4:]\n",
    "env_true, env_sim = Reacher.create(g=30.0), Reacher.create()\n",
    "#Initialize actions\n",
    "U0 = jnp.tile(jnp.zeros(env_sim.action_dim), (env_sim.H, 1))\n",
    "# Warm up with via iLQG on the sim\n",
    "X, U, k, K, c = iLQR(env_sim, cost, U0, 6, verbose=False)"
   ]
  },
  {
   "cell_type": "code",
   "execution_count": 4,
   "id": "2f475bb3",
   "metadata": {},
   "outputs": [],
   "source": [
    "%%capture iLC_output\n",
    "## Run ILC\n",
    "from deluca.igpc.ilc import iLC_closed\n",
    "T = 10\n",
    "iLC_result = iLC_closed(env_true, env_sim, cost, U, T, k, K, X, ref_alpha=0.5)\n",
    "# Cell takes about 54 seconds to run"
   ]
  },
  {
   "cell_type": "code",
   "execution_count": 5,
   "id": "b86eeea1",
   "metadata": {},
   "outputs": [
    {
     "name": "stdout",
     "output_type": "stream",
     "text": [
      "iLC: t = -1, r = 1, c = 4322.26123046875\n",
      "iLC (closed+alpha=0.5): t = 0, r = 2, c = 2470.9970703125, alpha = 0.550000011920929\n",
      "iLC (closed+alpha=0.5): t = 1, r = 3, c = 1753.77783203125, alpha = 0.6050000190734863\n",
      "iLC (closed+alpha=0.5): t = 2, r = 4, c = 1603.722900390625, alpha = 0.6655000448226929\n",
      "iLC (closed+alpha=0.5): t = 3, r = 5, c = 1576.240234375, alpha = 0.7320500612258911\n",
      "iLC (closed+alpha=0.5): t = 4, r = 6, c = 1546.8001708984375, alpha = 0.8052550554275513\n",
      "iLC (closed+alpha=0.5): t = 5, r = 7, c = 1530.50732421875, alpha = 0.8857805728912354\n",
      "iLC (closed+alpha=0.5): t = 6, r = 8, c = 1521.5250244140625, alpha = 0.9743586182594299\n",
      "Backtracking failed - Quitting\n"
     ]
    }
   ],
   "source": [
    "# iLC Trace\n",
    "iLC_output()"
   ]
  },
  {
   "cell_type": "code",
   "execution_count": 6,
   "id": "bc77d3de",
   "metadata": {},
   "outputs": [],
   "source": [
    "%%capture iGPC_output\n",
    "# Run iGPC\n",
    "from deluca.igpc.igpc import iGPC_closed\n",
    "T = 10\n",
    "iGPC_result = iGPC_closed(env_true, env_sim, cost, U, T, k, K, X, 'de', ref_alpha=0.5, lr=0.03)\n",
    "# Cell takes about ~5min to run"
   ]
  },
  {
   "cell_type": "code",
   "execution_count": 7,
   "id": "c181d441",
   "metadata": {},
   "outputs": [
    {
     "name": "stdout",
     "output_type": "stream",
     "text": [
      "iGPC: t = -1, r = 1, c = 4322.26123046875\n",
      "iGPC: t = 0, r = 2, c = 2443.56298828125, alpha = 0.550000011920929, lr = 0.03\n",
      "iGPC: t = 1, r = 3, c = 1710.015380859375, alpha = 0.6050000190734863, lr = 0.03\n",
      "iGPC: t = 2, r = 4, c = 1564.369140625, alpha = 0.6655000448226929, lr = 0.03\n",
      "iGPC: t = 3, r = 5, c = 1534.8509521484375, alpha = 0.7320500612258911, lr = 0.03\n",
      "iGPC: t = 4, r = 6, c = 1501.7266845703125, alpha = 0.8052550554275513, lr = 0.03\n",
      "iGPC: t = 5, r = 7, c = 1480.9365234375, alpha = 0.8857805728912354, lr = 0.03\n",
      "iGPC: t = 6, r = 8, c = 1464.270751953125, alpha = 0.9743586182594299, lr = 0.03\n",
      "iGPC: t = 7, r = 9, c = 1453.5308837890625, alpha = 1.0717945098876953, lr = 0.03\n",
      "iGPC: t = 8, r = 10, c = 1446.9398193359375, alpha = 1.178973913192749, lr = 0.03\n",
      "iGPC: t = 9, r = 11, c = 1444.40625, alpha = 1.296871304512024, lr = 0.03\n",
      "1626709240.5136142\n"
     ]
    }
   ],
   "source": [
    "#iGPC Trace\n",
    "iGPC_output()"
   ]
  },
  {
   "cell_type": "code",
   "execution_count": 8,
   "id": "a3879328",
   "metadata": {},
   "outputs": [],
   "source": [
    "%%capture iLQRO_output\n",
    "## Running the ILQR(Oracle) - This is the unachievable baseline\n",
    "iLQRO_result = iLQR(env_true, cost, U, 10, k, K, X, verbose=True)"
   ]
  },
  {
   "cell_type": "code",
   "execution_count": 9,
   "id": "94720c73",
   "metadata": {},
   "outputs": [
    {
     "name": "stdout",
     "output_type": "stream",
     "text": [
      "iLQR (true): t = -1, r = 1, c = 4322.26123046875\n",
      "iLQR (true): t = 0, r = 2, alphac = 0.550000011920929, cost = 1898.591796875\n",
      "iLQR (true): t = 0, r = 2, c = 1898.591796875\n",
      "iLQR (true): t = 1, r = 3, alphac = 0.6050000190734863, cost = 1235.0311279296875\n",
      "iLQR (true): t = 1, r = 3, c = 1235.0311279296875\n",
      "iLQR (true): t = 2, r = 4, alphac = 0.6655000448226929, cost = 1048.5633544921875\n",
      "iLQR (true): t = 2, r = 4, c = 1048.5633544921875\n",
      "iLQR (true): t = 3, r = 5, alphac = 0.7320500612258911, cost = 965.6436157226562\n",
      "iLQR (true): t = 3, r = 5, c = 965.6436157226562\n",
      "iLQR (true): t = 4, r = 6, alphac = 0.8052550554275513, cost = 949.9563598632812\n",
      "iLQR (true): t = 4, r = 6, c = 949.9563598632812\n",
      "iLQR (true): t = 5, r = 7, alphac = 0.8857805728912354, cost = 947.5916748046875\n",
      "iLQR (true): t = 5, r = 7, c = 947.5916748046875\n",
      "iLQR (true): t = 6, r = 8, alphac = 0.9743586182594299, cost = 946.9810180664062\n",
      "iLQR (true): t = 6, r = 8, c = 946.9810180664062\n",
      "iLQR (true): t = 7, r = 9, alphac = 1.0717945098876953, cost = 946.6973876953125\n",
      "iLQR (true): t = 7, r = 9, c = 946.6973876953125\n",
      "iLQR (true): t = 8, r = 10, alphac = 1.178973913192749, cost = 946.5526733398438\n",
      "iLQR (true): t = 8, r = 10, c = 946.5526733398438\n",
      "iLQR (true): t = 9, r = 11, alphac = 1.296871304512024, cost = 946.4869384765625\n",
      "iLQR (true): t = 9, r = 11, c = 946.4869384765625\n"
     ]
    }
   ],
   "source": [
    "iLQRO_output()"
   ]
  },
  {
   "cell_type": "code",
   "execution_count": 10,
   "id": "defbdd52",
   "metadata": {},
   "outputs": [
    {
     "data": {
      "text/plain": [
       "[<matplotlib.lines.Line2D at 0x7f7fabcedeb0>]"
      ]
     },
     "execution_count": 10,
     "metadata": {},
     "output_type": "execute_result"
    },
    {
     "data": {
      "image/png": "[encoded data removed]",
      "text/plain": [
       "<Figure size 432x288 with 1 Axes>"
      ]
     },
     "metadata": {
      "needs_background": "light"
     },
     "output_type": "display_data"
    }
   ],
   "source": [
    "import matplotlib.pyplot as plt\n",
    "from deluca.igpc.plot_utils import process_for_plot, zero_cost\n",
    "\n",
    "iLC_perf = process_for_plot(str(iLC_output.stdout), 60)\n",
    "iGPC_perf = process_for_plot(str(iGPC_output.stdout), 60)\n",
    "iLQRO_perf = process_for_plot(str(iLQRO_output.stdout), 60)\n",
    "iLQG_cost = zero_cost(str(iLC_output.stdout))\n",
    "\n",
    "plt.plot(list(range(60)), [iLQG_cost]*60)\n",
    "plt.plot(iLC_perf[0], iLC_perf[1], 'green')\n",
    "plt.plot(iGPC_perf[0], iGPC_perf[1], 'red')\n",
    "plt.plot(iLQRO_perf[0], iLQRO_perf[1], 'black')"
   ]
  }
 ],
 "metadata": {
  "kernelspec": {
   "display_name": "Python 3",
   "language": "python",
   "name": "python3"
  },
  "language_info": {
   "codemirror_mode": {
    "name": "ipython",
    "version": 3
   },
   "file_extension": ".py",
   "mimetype": "text/x-python",
   "name": "python",
   "nbconvert_exporter": "python",
   "pygments_lexer": "ipython3",
   "version": "3.9.4"
  }
 },
 "nbformat": 4,
 "nbformat_minor": 5
}
