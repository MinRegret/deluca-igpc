{
 "cells": [
  {
   "cell_type": "code",
   "execution_count": 1,
   "id": "6ca2e881",
   "metadata": {},
   "outputs": [],
   "source": [
    "%load_ext autoreload\n",
    "%autoreload 2"
   ]
  },
  {
   "cell_type": "code",
   "execution_count": 2,
   "id": "251a6682",
   "metadata": {},
   "outputs": [
    {
     "name": "stderr",
     "output_type": "stream",
     "text": [
      "WARNING:absl:No GPU/TPU found, falling back to CPU. (Set TF_CPP_MIN_LOG_LEVEL=0 and rerun for more info.)\n"
     ]
    }
   ],
   "source": [
    "import jax\n",
    "import jax.numpy as jnp\n",
    "import tqdm\n",
    "import flax\n",
    "import deluca.core\n",
    "import matplotlib.pyplot as plt\n",
    "from deluca.igpc.ilqr import iLQR\n",
    "from deluca.envs import PlanarQuadrotor"
   ]
  },
  {
   "cell_type": "code",
   "execution_count": 3,
   "id": "ca0bc412",
   "metadata": {},
   "outputs": [],
   "source": [
    "def cost(x, u, sim):\n",
    "    return 0.1 * (u - sim.goal_action) @ (u - sim.goal_action) + (x.arr - sim.goal_state) @ (x.arr - sim.goal_state)\n",
    "\n",
    "env_true, env_sim = PlanarQuadrotor.create(wind=0.4), PlanarQuadrotor.create()\n",
    "#Initial actions\n",
    "U0 = jnp.tile(env_sim.goal_action, (env_sim.H, 1))\n",
    "# Warm up with either file or iLQR\n",
    "warmup_steps = 8\n",
    "X, U, k, K, c = iLQR(env_sim, cost, U0, warmup_steps, verbose=False)"
   ]
  },
  {
   "cell_type": "code",
   "execution_count": 4,
   "id": "2f475bb3",
   "metadata": {},
   "outputs": [],
   "source": [
    "%%capture iLC_output\n",
    "from deluca.igpc.ilc import iLC_closed\n",
    "T = 40\n",
    "iLC_result = iLC_closed(env_true, env_sim, cost, U, T, k, K, X, ref_alpha=0.2),"
   ]
  },
  {
   "cell_type": "code",
   "execution_count": 5,
   "id": "b86eeea1",
   "metadata": {},
   "outputs": [
    {
     "name": "stdout",
     "output_type": "stream",
     "text": [
      "iLC: t = -1, r = 1, c = 4487.193359375\n",
      "iLC (closed+alpha=0.2): t = 0, r = 3, c = 4026.63525390625, alpha = 0.19999998807907104\n",
      "iLC (closed+alpha=0.2): t = 1, r = 8, c = 3935.4326171875, alpha = 0.047878388315439224\n",
      "iLC (closed+alpha=0.2): t = 2, r = 9, c = 3905.06494140625, alpha = 0.052666228264570236\n",
      "iLC (closed+alpha=0.2): t = 3, r = 11, c = 3903.933837890625, alpha = 0.05266622453927994\n",
      "iLC (closed+alpha=0.2): t = 4, r = 13, c = 3899.560546875, alpha = 0.05266622081398964\n",
      "iLC (closed+alpha=0.2): t = 5, r = 14, c = 3874.069580078125, alpha = 0.05793284252285957\n",
      "iLC (closed+alpha=0.2): t = 6, r = 15, c = 3803.802001953125, alpha = 0.06372612714767456\n",
      "iLC (closed+alpha=0.2): t = 7, r = 16, c = 3670.316650390625, alpha = 0.07009874284267426\n",
      "iLC (closed+alpha=0.2): t = 8, r = 17, c = 3462.56982421875, alpha = 0.07710861414670944\n",
      "iLC (closed+alpha=0.2): t = 9, r = 18, c = 3179.236328125, alpha = 0.08481947332620621\n",
      "iLC (closed+alpha=0.2): t = 10, r = 19, c = 2830.267822265625, alpha = 0.09330142289400101\n",
      "iLC (closed+alpha=0.2): t = 11, r = 20, c = 2435.496337890625, alpha = 0.1026315689086914\n",
      "iLC (closed+alpha=0.2): t = 12, r = 21, c = 2020.4619140625, alpha = 0.11289472877979279\n",
      "iLC (closed+alpha=0.2): t = 13, r = 22, c = 1611.34033203125, alpha = 0.12418419867753983\n",
      "iLC (closed+alpha=0.2): t = 14, r = 23, c = 1231.0743408203125, alpha = 0.13660262525081635\n",
      "iLC (closed+alpha=0.2): t = 15, r = 24, c = 898.0227661132812, alpha = 0.15026289224624634\n",
      "iLC (closed+alpha=0.2): t = 16, r = 25, c = 628.781005859375, alpha = 0.16528917849063873\n",
      "iLC (closed+alpha=0.2): t = 17, r = 26, c = 447.6528015136719, alpha = 0.18181809782981873\n",
      "iLC (closed+alpha=0.2): t = 18, r = 27, c = 385.6961975097656, alpha = 0.19999991357326508\n",
      "iLC (closed+alpha=0.2): t = 19, r = 30, c = 384.6064758300781, alpha = 0.15026287734508514\n",
      "iLC (closed+alpha=0.2): t = 20, r = 31, c = 383.4833984375, alpha = 0.16528916358947754\n",
      "iLC (closed+alpha=0.2): t = 21, r = 32, c = 364.3805236816406, alpha = 0.18181808292865753\n",
      "iLC (closed+alpha=0.2): t = 22, r = 33, c = 322.3738708496094, alpha = 0.19999989867210388\n",
      "iLC (closed+alpha=0.2): t = 23, r = 34, c = 263.3067321777344, alpha = 0.21999989449977875\n",
      "iLC (closed+alpha=0.2): t = 24, r = 35, c = 201.1172332763672, alpha = 0.24199987947940826\n",
      "iLC (closed+alpha=0.2): t = 25, r = 36, c = 153.2248077392578, alpha = 0.26619985699653625\n",
      "iLC (closed+alpha=0.2): t = 26, r = 37, c = 132.08607482910156, alpha = 0.2928198575973511\n",
      "iLC (closed+alpha=0.2): t = 27, r = 40, c = 130.72348022460938, alpha = 0.21999986469745636\n",
      "iLC (closed+alpha=0.2): t = 28, r = 45, c = 130.6317138671875, alpha = 0.05266619846224785\n",
      "iLC (closed+alpha=0.2): t = 29, r = 46, c = 130.6195526123047, alpha = 0.05793282017111778\n",
      "iLC (closed+alpha=0.2): t = 30, r = 48, c = 130.61318969726562, alpha = 0.05793282017111778\n",
      "iLC (closed+alpha=0.2): t = 31, r = 49, c = 130.5592803955078, alpha = 0.06372610479593277\n",
      "iLC (closed+alpha=0.2): t = 32, r = 50, c = 130.37889099121094, alpha = 0.07009871304035187\n",
      "iLC (closed+alpha=0.2): t = 33, r = 51, c = 129.976318359375, alpha = 0.07710858434438705\n",
      "iLC (closed+alpha=0.2): t = 34, r = 52, c = 129.24266052246094, alpha = 0.08481944352388382\n",
      "iLC (closed+alpha=0.2): t = 35, r = 53, c = 128.07406616210938, alpha = 0.09330138564109802\n",
      "iLC (closed+alpha=0.2): t = 36, r = 54, c = 126.38211059570312, alpha = 0.10263152420520782\n",
      "iLC (closed+alpha=0.2): t = 37, r = 55, c = 124.1236343383789, alpha = 0.11289467662572861\n",
      "iLC (closed+alpha=0.2): t = 38, r = 56, c = 121.31324005126953, alpha = 0.12418414652347565\n",
      "iLC (closed+alpha=0.2): t = 39, r = 57, c = 118.0483169555664, alpha = 0.13660256564617157\n"
     ]
    }
   ],
   "source": [
    "iLC_output()"
   ]
  },
  {
   "cell_type": "code",
   "execution_count": 6,
   "id": "bc77d3de",
   "metadata": {},
   "outputs": [],
   "source": [
    "%%capture iGPC_output\n",
    "from deluca.igpc.igpc import iGPC_closed\n",
    "T = 40\n",
    "iGPC_result = iGPC_closed(env_true, env_sim, cost, U, T, k, K, X, 'de', ref_alpha=0.2, lr=0.001)"
   ]
  },
  {
   "cell_type": "code",
   "execution_count": 7,
   "id": "c181d441",
   "metadata": {},
   "outputs": [
    {
     "name": "stdout",
     "output_type": "stream",
     "text": [
      "iGPC: t = -1, r = 1, c = 4487.193359375\n",
      "Trying alpha  0.22\n",
      "iGPC: t = 0, r = 2, c = 4368.88037109375, alpha = 0.2199999988079071, lr = 0.001\n",
      "Trying alpha  0.242\n",
      "Trying alpha  0.21999998\n",
      "Trying alpha  0.16528924\n",
      "Trying alpha  0.102631606\n",
      "iGPC: t = 1, r = 6, c = 4311.3662109375, alpha = 0.10263160616159439, lr = 0.001\n",
      "Trying alpha  0.112894766\n",
      "iGPC: t = 2, r = 7, c = 4286.974609375, alpha = 0.11289476603269577, lr = 0.001\n",
      "Trying alpha  0.12418424\n",
      "iGPC: t = 3, r = 8, c = 4082.16845703125, alpha = 0.12418424338102341, lr = 0.001\n",
      "Trying alpha  0.13660267\n",
      "iGPC: t = 4, r = 9, c = 3625.749755859375, alpha = 0.13660266995429993, lr = 0.001\n",
      "Trying alpha  0.15026294\n",
      "iGPC: t = 5, r = 10, c = 2974.261474609375, alpha = 0.15026293694972992, lr = 0.001\n",
      "Trying alpha  0.16528922\n",
      "iGPC: t = 6, r = 11, c = 2248.27001953125, alpha = 0.16528922319412231, lr = 0.001\n",
      "Trying alpha  0.18181814\n",
      "iGPC: t = 7, r = 12, c = 1566.6424560546875, alpha = 0.1818181425333023, lr = 0.001\n",
      "Trying alpha  0.19999996\n",
      "iGPC: t = 8, r = 13, c = 1005.8526611328125, alpha = 0.19999995827674866, lr = 0.001\n",
      "Trying alpha  0.21999995\n",
      "iGPC: t = 9, r = 14, c = 605.4093017578125, alpha = 0.21999995410442352, lr = 0.001\n",
      "Trying alpha  0.24199995\n",
      "iGPC: t = 10, r = 15, c = 414.1749572753906, alpha = 0.24199995398521423, lr = 0.001\n",
      "Trying alpha  0.26619995\n",
      "Trying alpha  0.24199994\n",
      "Trying alpha  0.18181813\n",
      "Trying alpha  0.11289474\n",
      "Trying alpha  0.057932843\n",
      "Trying alpha  0.024569176\n",
      "dropping LR and alpha\n",
      "Trying alpha  0.26619995\n",
      "iGPC: t = 12, r = 22, c = 358.410400390625, alpha = 0.2661999464035034, lr = 1e-05\n",
      "Trying alpha  0.29281995\n",
      "Trying alpha  0.26619995\n",
      "Trying alpha  0.19999994\n",
      "iGPC: t = 13, r = 25, c = 358.27978515625, alpha = 0.19999994337558746, lr = 1e-05\n",
      "Trying alpha  0.21999994\n",
      "iGPC: t = 14, r = 26, c = 342.6866149902344, alpha = 0.21999993920326233, lr = 1e-05\n",
      "Trying alpha  0.24199994\n",
      "iGPC: t = 15, r = 27, c = 298.7605285644531, alpha = 0.24199993908405304, lr = 1e-05\n",
      "Trying alpha  0.26619995\n",
      "iGPC: t = 16, r = 28, c = 233.77833557128906, alpha = 0.2661999464035034, lr = 1e-05\n",
      "Trying alpha  0.29281995\n",
      "iGPC: t = 17, r = 29, c = 170.70530700683594, alpha = 0.29281994700431824, lr = 1e-05\n",
      "Trying alpha  0.32210195\n",
      "iGPC: t = 18, r = 30, c = 135.62362670898438, alpha = 0.3221019506454468, lr = 1e-05\n",
      "Trying alpha  0.35431215\n",
      "iGPC: t = 19, r = 31, c = 135.50930786132812, alpha = 0.35431215167045593, lr = 1e-05\n",
      "Trying alpha  0.38974336\n",
      "Trying alpha  0.35431212\n",
      "Trying alpha  0.26619992\n",
      "Trying alpha  0.1652892\n",
      "Trying alpha  0.08481948\n",
      "iGPC: t = 20, r = 36, c = 135.4608612060547, alpha = 0.0848194807767868, lr = 1e-05\n",
      "Trying alpha  0.09330143\n",
      "iGPC: t = 21, r = 37, c = 135.3566131591797, alpha = 0.0933014303445816, lr = 1e-05\n",
      "Trying alpha  0.10263158\n",
      "iGPC: t = 22, r = 38, c = 134.94004821777344, alpha = 0.102631576359272, lr = 1e-05\n",
      "Trying alpha  0.112894736\n",
      "iGPC: t = 23, r = 39, c = 133.92982482910156, alpha = 0.11289473623037338, lr = 1e-05\n",
      "Trying alpha  0.12418421\n",
      "iGPC: t = 24, r = 40, c = 132.06668090820312, alpha = 0.12418421357870102, lr = 1e-05\n",
      "Trying alpha  0.13660264\n",
      "iGPC: t = 25, r = 41, c = 129.19113159179688, alpha = 0.13660264015197754, lr = 1e-05\n",
      "Trying alpha  0.1502629\n",
      "iGPC: t = 26, r = 42, c = 125.30809020996094, alpha = 0.15026290714740753, lr = 1e-05\n",
      "Trying alpha  0.1652892\n",
      "iGPC: t = 27, r = 43, c = 120.6302490234375, alpha = 0.16528919339179993, lr = 1e-05\n",
      "Trying alpha  0.18181811\n",
      "iGPC: t = 28, r = 44, c = 115.58610534667969, alpha = 0.18181811273097992, lr = 1e-05\n",
      "Trying alpha  0.19999993\n",
      "iGPC: t = 29, r = 45, c = 110.74329376220703, alpha = 0.19999992847442627, lr = 1e-05\n",
      "Trying alpha  0.21999992\n",
      "iGPC: t = 30, r = 46, c = 106.67530822753906, alpha = 0.21999992430210114, lr = 1e-05\n",
      "Trying alpha  0.24199992\n",
      "iGPC: t = 31, r = 47, c = 103.7906265258789, alpha = 0.24199992418289185, lr = 1e-05\n",
      "Trying alpha  0.26619992\n",
      "iGPC: t = 32, r = 48, c = 102.1771240234375, alpha = 0.26619991660118103, lr = 1e-05\n",
      "Trying alpha  0.29281992\n",
      "iGPC: t = 33, r = 49, c = 101.5717544555664, alpha = 0.29281991720199585, lr = 1e-05\n",
      "Trying alpha  0.32210192\n",
      "iGPC: t = 34, r = 50, c = 101.48340606689453, alpha = 0.3221019208431244, lr = 1e-05\n",
      "Trying alpha  0.35431212\n",
      "iGPC: t = 35, r = 51, c = 101.44812774658203, alpha = 0.35431212186813354, lr = 1e-05\n",
      "Trying alpha  0.38974333\n",
      "iGPC: t = 36, r = 52, c = 101.25679016113281, alpha = 0.3897433280944824, lr = 1e-05\n",
      "Trying alpha  0.42871767\n",
      "iGPC: t = 37, r = 53, c = 100.98219299316406, alpha = 0.4287176728248596, lr = 1e-05\n",
      "Trying alpha  0.47158945\n",
      "iGPC: t = 38, r = 54, c = 100.78733825683594, alpha = 0.47158944606781006, lr = 1e-05\n",
      "Trying alpha  0.5187484\n",
      "iGPC: t = 39, r = 55, c = 100.72421264648438, alpha = 0.51874840259552, lr = 1e-05\n"
     ]
    },
    {
     "name": "stderr",
     "output_type": "stream",
     "text": [
      "[autoreload of deluca.envs.classic._planar_quadrotor failed: Traceback (most recent call last):\n",
      "  File \"/home/dsuo/miniconda3/envs/deluca/lib/python3.8/site-packages/IPython/extensions/autoreload.py\", line 245, in check\n",
      "    superreload(m, reload, self.old_objects)\n",
      "  File \"/home/dsuo/miniconda3/envs/deluca/lib/python3.8/site-packages/IPython/extensions/autoreload.py\", line 410, in superreload\n",
      "    update_generic(old_obj, new_obj)\n",
      "  File \"/home/dsuo/miniconda3/envs/deluca/lib/python3.8/site-packages/IPython/extensions/autoreload.py\", line 347, in update_generic\n",
      "    update(a, b)\n",
      "  File \"/home/dsuo/miniconda3/envs/deluca/lib/python3.8/site-packages/IPython/extensions/autoreload.py\", line 317, in update_class\n",
      "    update_instances(old, new)\n",
      "  File \"/home/dsuo/miniconda3/envs/deluca/lib/python3.8/site-packages/IPython/extensions/autoreload.py\", line 280, in update_instances\n",
      "    ref.__class__ = new\n",
      "  File \"<string>\", line 2, in __setattr__\n",
      "NameError: name 'cls' is not defined\n",
      "]\n"
     ]
    }
   ],
   "source": [
    "iGPC_output()"
   ]
  },
  {
   "cell_type": "code",
   "execution_count": 8,
   "id": "defbdd52",
   "metadata": {},
   "outputs": [
    {
     "name": "stdout",
     "output_type": "stream",
     "text": [
      "([0, 1, 2, 3, 4, 5, 6, 7, 8, 9, 10, 11, 12, 13, 14, 15, 16, 17, 18, 19, 20, 21, 22, 23, 24, 25, 26, 27, 28, 29, 30, 31, 32, 33, 34, 35, 36, 37, 38, 39, 40, 41, 42, 43, 44, 45, 46, 47, 48, 49, 50, 51, 52, 53, 54, 55, 56, 57], [4487.193359375, 4487.193359375, 4487.193359375, 4026.63525390625, 4026.63525390625, 4026.63525390625, 4026.63525390625, 4026.63525390625, 3935.4326171875, 3905.06494140625, 3905.06494140625, 3903.933837890625, 3903.933837890625, 3899.560546875, 3874.069580078125, 3803.802001953125, 3670.316650390625, 3462.56982421875, 3179.236328125, 2830.267822265625, 2435.496337890625, 2020.4619140625, 1611.34033203125, 1231.0743408203125, 898.0227661132812, 628.781005859375, 447.6528015136719, 385.6961975097656, 385.6961975097656, 385.6961975097656, 384.6064758300781, 383.4833984375, 364.3805236816406, 322.3738708496094, 263.3067321777344, 201.1172332763672, 153.2248077392578, 132.08607482910156, 132.08607482910156, 132.08607482910156, 130.72348022460938, 130.72348022460938, 130.72348022460938, 130.72348022460938, 130.72348022460938, 130.6317138671875, 130.6195526123047, 130.6195526123047, 130.61318969726562, 130.5592803955078, 130.37889099121094, 129.976318359375, 129.24266052246094, 128.07406616210938, 126.38211059570312, 124.1236343383789, 121.31324005126953, 118.0483169555664]) ([0, 1, 2, 3, 4, 5, 6, 7, 8, 9, 10, 11, 12, 13, 14, 15, 16, 17, 18, 19, 20, 21, 22, 23, 24, 25, 26, 27, 28, 29, 30, 31, 32, 33, 34, 35, 36, 37, 38, 39, 40, 41, 42, 43, 44, 45, 46, 47, 48, 49, 50, 51, 52, 53, 54, 55], [4487.193359375, 4487.193359375, 4368.88037109375, 4368.88037109375, 4368.88037109375, 4368.88037109375, 4311.3662109375, 4286.974609375, 4082.16845703125, 3625.749755859375, 2974.261474609375, 2248.27001953125, 1566.6424560546875, 1005.8526611328125, 605.4093017578125, 414.1749572753906, 414.1749572753906, 414.1749572753906, 414.1749572753906, 414.1749572753906, 414.1749572753906, 414.1749572753906, 358.410400390625, 358.410400390625, 358.410400390625, 358.27978515625, 342.6866149902344, 298.7605285644531, 233.77833557128906, 170.70530700683594, 135.62362670898438, 135.50930786132812, 135.50930786132812, 135.50930786132812, 135.50930786132812, 135.50930786132812, 135.4608612060547, 135.3566131591797, 134.94004821777344, 133.92982482910156, 132.06668090820312, 129.19113159179688, 125.30809020996094, 120.6302490234375, 115.58610534667969, 110.74329376220703, 106.67530822753906, 103.7906265258789, 102.1771240234375, 101.5717544555664, 101.48340606689453, 101.44812774658203, 101.25679016113281, 100.98219299316406, 100.78733825683594, 100.72421264648438])\n"
     ]
    }
   ],
   "source": [
    "import re\n",
    "\n",
    "def postprocess(a):\n",
    "    rs, vs = a\n",
    "    newrs, newvs = [], []\n",
    "    ref = 0\n",
    "    for (i, (r, v)) in enumerate(zip(rs, vs)):\n",
    "        r = int(r)\n",
    "        if i == len(rs) - 1:\n",
    "            newrs += [r]\n",
    "            newvs += [v]\n",
    "        else:\n",
    "            next_r = int(rs[i + 1])\n",
    "            newrs += list(range(r, next_r))\n",
    "            newvs += [v for _ in range(r, next_r)]\n",
    "    return newrs, newvs\n",
    "\n",
    "\n",
    "def convert_to_dict(txt):\n",
    "    z_pattern = f\"(.*): t = -1, r = ([0-9]*), c = ([0-9.]*)\"\n",
    "    z_res = results = list(zip(*re.findall(z_pattern, txt)))\n",
    "    zerocost = float(z_res[2][0])\n",
    "    pattern = f\"(.*): t = [0-9]*, r = ([0-9]*), c = ([0-9.]*)\"\n",
    "    results = list(zip(*re.findall(pattern, txt)))\n",
    "    #     if len(results) > 0:\n",
    "    #         results = results[0], list(map(float, results[1])), list(map(float, results[2]))\n",
    "    #all_keys = list(set(results[0]))\n",
    "    #results_dict = {}\n",
    "    #for k in all_keys:\n",
    "    #print(results)\n",
    "    return [[0., 1.] + [float(r) for r in results[1]], [zerocost, zerocost] + [float(r) for r in results[2]]]\n",
    "\n",
    "iLC_perf = postprocess(convert_to_dict(str(iLC_output.stdout)))\n",
    "iGPC_perf = postprocess(convert_to_dict(str(iGPC_output.stdout)))\n",
    "\n",
    "print(iLC_perf, iGPC_perf)"
   ]
  },
  {
   "cell_type": "code",
   "execution_count": 9,
   "id": "a470b12f",
   "metadata": {},
   "outputs": [
    {
     "data": {
      "text/plain": [
       "[<matplotlib.lines.Line2D at 0x7fad2823a3d0>]"
      ]
     },
     "execution_count": 9,
     "metadata": {},
     "output_type": "execute_result"
    },
    {
     "data": {
      "image/png": "[encoded data removed]",
      "text/plain": [
       "<Figure size 432x288 with 1 Axes>"
      ]
     },
     "metadata": {
      "needs_background": "light"
     },
     "output_type": "display_data"
    }
   ],
   "source": [
    "import matplotlib.pyplot as plt\n",
    "\n",
    "plt.plot(iLC_perf[0], iLC_perf[1])\n",
    "plt.plot(iGPC_perf[0], iGPC_perf[1], 'blue')"
   ]
  },
  {
   "cell_type": "code",
   "execution_count": null,
   "id": "efbd9c1b",
   "metadata": {},
   "outputs": [],
   "source": []
  }
 ],
 "metadata": {
  "kernelspec": {
   "display_name": "Python 3",
   "language": "python",
   "name": "python3"
  },
  "language_info": {
   "codemirror_mode": {
    "name": "ipython",
    "version": 3
   },
   "file_extension": ".py",
   "mimetype": "text/x-python",
   "name": "python",
   "nbconvert_exporter": "python",
   "pygments_lexer": "ipython3",
   "version": "3.8.0"
  }
 },
 "nbformat": 4,
 "nbformat_minor": 5
}
