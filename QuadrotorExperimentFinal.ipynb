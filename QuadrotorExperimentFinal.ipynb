{
 "cells": [
  {
   "cell_type": "code",
   "execution_count": 1,
   "id": "6ca2e881",
   "metadata": {},
   "outputs": [],
   "source": [
    "%load_ext autoreload\n",
    "%autoreload 2"
   ]
  },
  {
   "cell_type": "code",
   "execution_count": 2,
   "id": "251a6682",
   "metadata": {},
   "outputs": [
    {
     "name": "stderr",
     "output_type": "stream",
     "text": [
      "WARNING:absl:No GPU/TPU found, falling back to CPU. (Set TF_CPP_MIN_LOG_LEVEL=0 and rerun for more info.)\n"
     ]
    }
   ],
   "source": [
    "import jax\n",
    "import jax.numpy as jnp\n",
    "import tqdm\n",
    "import flax\n",
    "import deluca.core\n",
    "import matplotlib.pyplot as plt\n",
    "from ilqr import iLQR\n",
    "from deluca.envs import PlanarQuadrotor"
   ]
  },
  {
   "cell_type": "code",
   "execution_count": 3,
   "id": "ca0bc412",
   "metadata": {},
   "outputs": [],
   "source": [
    "def cost(x, u, sim):\n",
    "    return 0.1 * (u - sim.goal_action) @ (u - sim.goal_action) + (x.arr - sim.goal_state) @ (x.arr - sim.goal_state)\n",
    "\n",
    "env_true, env_sim = PlanarQuadrotor.create(wind=0.4), PlanarQuadrotor.create()\n",
    "#Initial actions\n",
    "U0 = jnp.tile(env_sim.goal_action, (env_sim.H, 1))\n",
    "# Warm up with either file or iLQR\n",
    "warmup_steps = 8\n",
    "X, U, k, K, c = iLQR(env_sim, cost, U0, warmup_steps, verbose=False)"
   ]
  },
  {
   "cell_type": "code",
   "execution_count": 4,
   "id": "2f475bb3",
   "metadata": {},
   "outputs": [],
   "source": [
    "%%capture iLC_output\n",
    "from ilc import iLC_closed\n",
    "T = 40\n",
    "iLC_result = iLC_closed(env_true, env_sim, cost, U, T, k, K, X, ref_alpha=0.2),"
   ]
  },
  {
   "cell_type": "code",
   "execution_count": 5,
   "id": "b86eeea1",
   "metadata": {},
   "outputs": [
    {
     "name": "stdout",
     "output_type": "stream",
     "text": [
      "iLC: t = -1, r = 1, c = 4487.193359375\n",
      "iLC (closed+alpha=0.2): t = 0, r = 3, c = 4026.633544921875, alpha = 0.19999998807907104\n",
      "iLC (closed+alpha=0.2): t = 1, r = 8, c = 3935.43310546875, alpha = 0.047878388315439224\n",
      "iLC (closed+alpha=0.2): t = 2, r = 9, c = 3905.0654296875, alpha = 0.052666228264570236\n",
      "iLC (closed+alpha=0.2): t = 3, r = 11, c = 3903.934814453125, alpha = 0.05266622453927994\n",
      "iLC (closed+alpha=0.2): t = 4, r = 13, c = 3899.5615234375, alpha = 0.05266622081398964\n",
      "iLC (closed+alpha=0.2): t = 5, r = 14, c = 3874.069091796875, alpha = 0.05793284252285957\n",
      "iLC (closed+alpha=0.2): t = 6, r = 15, c = 3803.79931640625, alpha = 0.06372612714767456\n",
      "iLC (closed+alpha=0.2): t = 7, r = 16, c = 3670.3173828125, alpha = 0.07009874284267426\n",
      "iLC (closed+alpha=0.2): t = 8, r = 17, c = 3462.566162109375, alpha = 0.07710861414670944\n",
      "iLC (closed+alpha=0.2): t = 9, r = 18, c = 3179.237548828125, alpha = 0.08481947332620621\n",
      "iLC (closed+alpha=0.2): t = 10, r = 19, c = 2830.266845703125, alpha = 0.09330142289400101\n",
      "iLC (closed+alpha=0.2): t = 11, r = 20, c = 2435.493896484375, alpha = 0.1026315689086914\n",
      "iLC (closed+alpha=0.2): t = 12, r = 21, c = 2020.46142578125, alpha = 0.11289472877979279\n",
      "iLC (closed+alpha=0.2): t = 13, r = 22, c = 1611.341552734375, alpha = 0.12418419867753983\n",
      "iLC (closed+alpha=0.2): t = 14, r = 23, c = 1231.0748291015625, alpha = 0.13660262525081635\n",
      "iLC (closed+alpha=0.2): t = 15, r = 24, c = 898.0234375, alpha = 0.15026289224624634\n",
      "iLC (closed+alpha=0.2): t = 16, r = 25, c = 628.78173828125, alpha = 0.16528917849063873\n",
      "iLC (closed+alpha=0.2): t = 17, r = 26, c = 447.6527099609375, alpha = 0.18181809782981873\n",
      "iLC (closed+alpha=0.2): t = 18, r = 27, c = 385.6971435546875, alpha = 0.19999991357326508\n",
      "iLC (closed+alpha=0.2): t = 19, r = 30, c = 384.6052551269531, alpha = 0.15026287734508514\n",
      "iLC (closed+alpha=0.2): t = 20, r = 31, c = 383.4825744628906, alpha = 0.16528916358947754\n",
      "iLC (closed+alpha=0.2): t = 21, r = 32, c = 364.3798828125, alpha = 0.18181808292865753\n",
      "iLC (closed+alpha=0.2): t = 22, r = 33, c = 322.3741455078125, alpha = 0.19999989867210388\n",
      "iLC (closed+alpha=0.2): t = 23, r = 34, c = 263.306640625, alpha = 0.21999989449977875\n",
      "iLC (closed+alpha=0.2): t = 24, r = 35, c = 201.11695861816406, alpha = 0.24199987947940826\n",
      "iLC (closed+alpha=0.2): t = 25, r = 36, c = 153.22528076171875, alpha = 0.26619985699653625\n",
      "iLC (closed+alpha=0.2): t = 26, r = 37, c = 132.086181640625, alpha = 0.2928198575973511\n",
      "iLC (closed+alpha=0.2): t = 27, r = 40, c = 130.72364807128906, alpha = 0.21999986469745636\n",
      "iLC (closed+alpha=0.2): t = 28, r = 45, c = 130.6319122314453, alpha = 0.05266619846224785\n",
      "iLC (closed+alpha=0.2): t = 29, r = 46, c = 130.62037658691406, alpha = 0.05793282017111778\n",
      "iLC (closed+alpha=0.2): t = 30, r = 48, c = 130.61285400390625, alpha = 0.05793282017111778\n",
      "iLC (closed+alpha=0.2): t = 31, r = 49, c = 130.55911254882812, alpha = 0.06372610479593277\n",
      "iLC (closed+alpha=0.2): t = 32, r = 50, c = 130.3798065185547, alpha = 0.07009871304035187\n",
      "iLC (closed+alpha=0.2): t = 33, r = 51, c = 129.97657775878906, alpha = 0.07710858434438705\n",
      "iLC (closed+alpha=0.2): t = 34, r = 52, c = 129.24240112304688, alpha = 0.08481944352388382\n",
      "iLC (closed+alpha=0.2): t = 35, r = 53, c = 128.0743408203125, alpha = 0.09330138564109802\n",
      "iLC (closed+alpha=0.2): t = 36, r = 54, c = 126.38346099853516, alpha = 0.10263152420520782\n",
      "iLC (closed+alpha=0.2): t = 37, r = 55, c = 124.12400817871094, alpha = 0.11289467662572861\n",
      "iLC (closed+alpha=0.2): t = 38, r = 56, c = 121.31293487548828, alpha = 0.12418414652347565\n",
      "iLC (closed+alpha=0.2): t = 39, r = 57, c = 118.0473403930664, alpha = 0.13660256564617157\n"
     ]
    }
   ],
   "source": [
    "iLC_output()"
   ]
  },
  {
   "cell_type": "code",
   "execution_count": 16,
   "id": "bc77d3de",
   "metadata": {},
   "outputs": [],
   "source": [
    "%%capture iGPC_output\n",
    "from igpc import iGPC_closed\n",
    "T = 40\n",
    "iGPC_result = iGPC_closed(env_true, env_sim, cost, U, T, k, K, X, 'de', ref_alpha=0.2, lr=0.001)"
   ]
  },
  {
   "cell_type": "code",
   "execution_count": 17,
   "id": "c181d441",
   "metadata": {},
   "outputs": [
    {
     "name": "stdout",
     "output_type": "stream",
     "text": [
      "iGPC: t = -1, r = 1, c = 4487.193359375\n",
      "Trying alpha  0.22\n",
      "iGPC: t = 0, r = 2, c = 4368.88037109375, alpha = 0.2199999988079071, lr = 0.001\n",
      "Trying alpha  0.242\n",
      "Trying alpha  0.21999998\n",
      "Trying alpha  0.16528924\n",
      "Trying alpha  0.102631606\n",
      "iGPC: t = 1, r = 6, c = 4311.3662109375, alpha = 0.10263160616159439, lr = 0.001\n",
      "Trying alpha  0.112894766\n",
      "iGPC: t = 2, r = 7, c = 4286.97705078125, alpha = 0.11289476603269577, lr = 0.001\n",
      "Trying alpha  0.12418424\n",
      "iGPC: t = 3, r = 8, c = 4082.1669921875, alpha = 0.12418424338102341, lr = 0.001\n",
      "Trying alpha  0.13660267\n",
      "iGPC: t = 4, r = 9, c = 3625.74853515625, alpha = 0.13660266995429993, lr = 0.001\n",
      "Trying alpha  0.15026294\n",
      "iGPC: t = 5, r = 10, c = 2974.2626953125, alpha = 0.15026293694972992, lr = 0.001\n",
      "Trying alpha  0.16528922\n",
      "iGPC: t = 6, r = 11, c = 2248.27197265625, alpha = 0.16528922319412231, lr = 0.001\n",
      "Trying alpha  0.18181814\n",
      "iGPC: t = 7, r = 12, c = 1566.6405029296875, alpha = 0.1818181425333023, lr = 0.001\n",
      "Trying alpha  0.19999996\n",
      "iGPC: t = 8, r = 13, c = 1005.8513793945312, alpha = 0.19999995827674866, lr = 0.001\n",
      "Trying alpha  0.21999995\n",
      "iGPC: t = 9, r = 14, c = 605.4087524414062, alpha = 0.21999995410442352, lr = 0.001\n",
      "Trying alpha  0.24199995\n",
      "iGPC: t = 10, r = 15, c = 414.1744079589844, alpha = 0.24199995398521423, lr = 0.001\n",
      "Trying alpha  0.26619995\n",
      "Trying alpha  0.24199994\n",
      "Trying alpha  0.18181813\n",
      "Trying alpha  0.11289474\n",
      "Trying alpha  0.057932843\n",
      "Trying alpha  0.024569176\n",
      "dropping LR and alpha\n",
      "Trying alpha  0.26619995\n",
      "iGPC: t = 12, r = 22, c = 358.409912109375, alpha = 0.2661999464035034, lr = 1e-05\n",
      "Trying alpha  0.29281995\n",
      "Trying alpha  0.26619995\n",
      "Trying alpha  0.19999994\n",
      "iGPC: t = 13, r = 25, c = 358.27886962890625, alpha = 0.19999994337558746, lr = 1e-05\n",
      "Trying alpha  0.21999994\n",
      "iGPC: t = 14, r = 26, c = 342.6882629394531, alpha = 0.21999993920326233, lr = 1e-05\n",
      "Trying alpha  0.24199994\n",
      "iGPC: t = 15, r = 27, c = 298.7605285644531, alpha = 0.24199993908405304, lr = 1e-05\n",
      "Trying alpha  0.26619995\n",
      "iGPC: t = 16, r = 28, c = 233.77835083007812, alpha = 0.2661999464035034, lr = 1e-05\n",
      "Trying alpha  0.29281995\n",
      "iGPC: t = 17, r = 29, c = 170.70559692382812, alpha = 0.29281994700431824, lr = 1e-05\n",
      "Trying alpha  0.32210195\n",
      "iGPC: t = 18, r = 30, c = 135.62374877929688, alpha = 0.3221019506454468, lr = 1e-05\n",
      "Trying alpha  0.35431215\n",
      "iGPC: t = 19, r = 31, c = 135.50892639160156, alpha = 0.35431215167045593, lr = 1e-05\n",
      "Trying alpha  0.38974336\n",
      "Trying alpha  0.35431212\n",
      "Trying alpha  0.26619992\n",
      "Trying alpha  0.1652892\n",
      "Trying alpha  0.08481948\n",
      "iGPC: t = 20, r = 36, c = 135.46116638183594, alpha = 0.0848194807767868, lr = 1e-05\n",
      "Trying alpha  0.09330143\n",
      "iGPC: t = 21, r = 37, c = 135.35678100585938, alpha = 0.0933014303445816, lr = 1e-05\n",
      "Trying alpha  0.10263158\n",
      "iGPC: t = 22, r = 38, c = 134.94012451171875, alpha = 0.102631576359272, lr = 1e-05\n",
      "Trying alpha  0.112894736\n",
      "iGPC: t = 23, r = 39, c = 133.929443359375, alpha = 0.11289473623037338, lr = 1e-05\n",
      "Trying alpha  0.12418421\n",
      "iGPC: t = 24, r = 40, c = 132.0674285888672, alpha = 0.12418421357870102, lr = 1e-05\n",
      "Trying alpha  0.13660264\n",
      "iGPC: t = 25, r = 41, c = 129.1906280517578, alpha = 0.13660264015197754, lr = 1e-05\n",
      "Trying alpha  0.1502629\n",
      "iGPC: t = 26, r = 42, c = 125.30886840820312, alpha = 0.15026290714740753, lr = 1e-05\n",
      "Trying alpha  0.1652892\n",
      "iGPC: t = 27, r = 43, c = 120.63053894042969, alpha = 0.16528919339179993, lr = 1e-05\n",
      "Trying alpha  0.18181811\n",
      "iGPC: t = 28, r = 44, c = 115.58636474609375, alpha = 0.18181811273097992, lr = 1e-05\n",
      "Trying alpha  0.19999993\n",
      "iGPC: t = 29, r = 45, c = 110.74305725097656, alpha = 0.19999992847442627, lr = 1e-05\n",
      "Trying alpha  0.21999992\n",
      "iGPC: t = 30, r = 46, c = 106.67511749267578, alpha = 0.21999992430210114, lr = 1e-05\n",
      "Trying alpha  0.24199992\n",
      "iGPC: t = 31, r = 47, c = 103.7906494140625, alpha = 0.24199992418289185, lr = 1e-05\n",
      "Trying alpha  0.26619992\n",
      "iGPC: t = 32, r = 48, c = 102.17710876464844, alpha = 0.26619991660118103, lr = 1e-05\n",
      "Trying alpha  0.29281992\n",
      "iGPC: t = 33, r = 49, c = 101.5717544555664, alpha = 0.29281991720199585, lr = 1e-05\n",
      "Trying alpha  0.32210192\n",
      "iGPC: t = 34, r = 50, c = 101.48338317871094, alpha = 0.3221019208431244, lr = 1e-05\n",
      "Trying alpha  0.35431212\n",
      "iGPC: t = 35, r = 51, c = 101.44811248779297, alpha = 0.35431212186813354, lr = 1e-05\n",
      "Trying alpha  0.38974333\n",
      "iGPC: t = 36, r = 52, c = 101.2568130493164, alpha = 0.3897433280944824, lr = 1e-05\n",
      "Trying alpha  0.42871767\n",
      "iGPC: t = 37, r = 53, c = 100.98213958740234, alpha = 0.4287176728248596, lr = 1e-05\n",
      "Trying alpha  0.47158945\n",
      "iGPC: t = 38, r = 54, c = 100.78738403320312, alpha = 0.47158944606781006, lr = 1e-05\n",
      "Trying alpha  0.5187484\n",
      "iGPC: t = 39, r = 55, c = 100.72425842285156, alpha = 0.51874840259552, lr = 1e-05\n"
     ]
    }
   ],
   "source": [
    "iGPC_output()"
   ]
  },
  {
   "cell_type": "code",
   "execution_count": 18,
   "id": "defbdd52",
   "metadata": {},
   "outputs": [
    {
     "ename": "NameError",
     "evalue": "name 'iLC_output' is not defined",
     "output_type": "error",
     "traceback": [
      "\u001b[0;31m---------------------------------------------------------------------------\u001b[0m",
      "\u001b[0;31mNameError\u001b[0m                                 Traceback (most recent call last)",
      "\u001b[0;32m<ipython-input-18-20711968577a>\u001b[0m in \u001b[0;36m<module>\u001b[0;34m\u001b[0m\n\u001b[1;32m     31\u001b[0m     \u001b[0;32mreturn\u001b[0m \u001b[0;34m[\u001b[0m\u001b[0;34m[\u001b[0m\u001b[0;36m0.\u001b[0m\u001b[0;34m,\u001b[0m \u001b[0;36m1.\u001b[0m\u001b[0;34m]\u001b[0m \u001b[0;34m+\u001b[0m \u001b[0;34m[\u001b[0m\u001b[0mfloat\u001b[0m\u001b[0;34m(\u001b[0m\u001b[0mr\u001b[0m\u001b[0;34m)\u001b[0m \u001b[0;32mfor\u001b[0m \u001b[0mr\u001b[0m \u001b[0;32min\u001b[0m \u001b[0mresults\u001b[0m\u001b[0;34m[\u001b[0m\u001b[0;36m1\u001b[0m\u001b[0;34m]\u001b[0m\u001b[0;34m]\u001b[0m\u001b[0;34m,\u001b[0m \u001b[0;34m[\u001b[0m\u001b[0mzerocost\u001b[0m\u001b[0;34m,\u001b[0m \u001b[0mzerocost\u001b[0m\u001b[0;34m]\u001b[0m \u001b[0;34m+\u001b[0m \u001b[0;34m[\u001b[0m\u001b[0mfloat\u001b[0m\u001b[0;34m(\u001b[0m\u001b[0mr\u001b[0m\u001b[0;34m)\u001b[0m \u001b[0;32mfor\u001b[0m \u001b[0mr\u001b[0m \u001b[0;32min\u001b[0m \u001b[0mresults\u001b[0m\u001b[0;34m[\u001b[0m\u001b[0;36m2\u001b[0m\u001b[0;34m]\u001b[0m\u001b[0;34m]\u001b[0m\u001b[0;34m]\u001b[0m\u001b[0;34m\u001b[0m\u001b[0;34m\u001b[0m\u001b[0m\n\u001b[1;32m     32\u001b[0m \u001b[0;34m\u001b[0m\u001b[0m\n\u001b[0;32m---> 33\u001b[0;31m \u001b[0miLC_perf\u001b[0m \u001b[0;34m=\u001b[0m \u001b[0mpostprocess\u001b[0m\u001b[0;34m(\u001b[0m\u001b[0mconvert_to_dict\u001b[0m\u001b[0;34m(\u001b[0m\u001b[0mstr\u001b[0m\u001b[0;34m(\u001b[0m\u001b[0miLC_output\u001b[0m\u001b[0;34m.\u001b[0m\u001b[0mstdout\u001b[0m\u001b[0;34m)\u001b[0m\u001b[0;34m)\u001b[0m\u001b[0;34m)\u001b[0m\u001b[0;34m\u001b[0m\u001b[0;34m\u001b[0m\u001b[0m\n\u001b[0m\u001b[1;32m     34\u001b[0m \u001b[0miGPC_perf\u001b[0m \u001b[0;34m=\u001b[0m \u001b[0mpostprocess\u001b[0m\u001b[0;34m(\u001b[0m\u001b[0mconvert_to_dict\u001b[0m\u001b[0;34m(\u001b[0m\u001b[0mstr\u001b[0m\u001b[0;34m(\u001b[0m\u001b[0miGPC_output\u001b[0m\u001b[0;34m.\u001b[0m\u001b[0mstdout\u001b[0m\u001b[0;34m)\u001b[0m\u001b[0;34m)\u001b[0m\u001b[0;34m)\u001b[0m\u001b[0;34m\u001b[0m\u001b[0;34m\u001b[0m\u001b[0m\n\u001b[1;32m     35\u001b[0m \u001b[0;34m\u001b[0m\u001b[0m\n",
      "\u001b[0;31mNameError\u001b[0m: name 'iLC_output' is not defined"
     ]
    }
   ],
   "source": [
    "import re\n",
    "\n",
    "def postprocess(a):\n",
    "    rs, vs = a\n",
    "    newrs, newvs = [], []\n",
    "    ref = 0\n",
    "    for (i, (r, v)) in enumerate(zip(rs, vs)):\n",
    "        r = int(r)\n",
    "        if i == len(rs) - 1:\n",
    "            newrs += [r]\n",
    "            newvs += [v]\n",
    "        else:\n",
    "            next_r = int(rs[i + 1])\n",
    "            newrs += list(range(r, next_r))\n",
    "            newvs += [v for _ in range(r, next_r)]\n",
    "    return newrs, newvs\n",
    "\n",
    "\n",
    "def convert_to_dict(txt):\n",
    "    z_pattern = f\"(.*): t = -1, r = ([0-9]*), c = ([0-9.]*)\"\n",
    "    z_res = results = list(zip(*re.findall(z_pattern, txt)))\n",
    "    zerocost = float(z_res[2][0])\n",
    "    pattern = f\"(.*): t = [0-9]*, r = ([0-9]*), c = ([0-9.]*)\"\n",
    "    results = list(zip(*re.findall(pattern, txt)))\n",
    "    #     if len(results) > 0:\n",
    "    #         results = results[0], list(map(float, results[1])), list(map(float, results[2]))\n",
    "    #all_keys = list(set(results[0]))\n",
    "    #results_dict = {}\n",
    "    #for k in all_keys:\n",
    "    #print(results)\n",
    "    return [[0., 1.] + [float(r) for r in results[1]], [zerocost, zerocost] + [float(r) for r in results[2]]]\n",
    "\n",
    "iLC_perf = postprocess(convert_to_dict(str(iLC_output.stdout)))\n",
    "iGPC_perf = postprocess(convert_to_dict(str(iGPC_output.stdout)))\n",
    "\n",
    "print(iLC_perf, iGPC_perf)"
   ]
  },
  {
   "cell_type": "code",
   "execution_count": 9,
   "id": "a470b12f",
   "metadata": {},
   "outputs": [
    {
     "data": {
      "text/plain": [
       "[<matplotlib.lines.Line2D at 0x7fdba7836f70>]"
      ]
     },
     "execution_count": 9,
     "metadata": {},
     "output_type": "execute_result"
    },
    {
     "data": {
      "image/png": "[encoded data removed]",
      "text/plain": [
       "<Figure size 432x288 with 1 Axes>"
      ]
     },
     "metadata": {
      "needs_background": "light"
     },
     "output_type": "display_data"
    }
   ],
   "source": [
    "import matplotlib.pyplot as plt\n",
    "\n",
    "plt.plot(iLC_perf[0], iLC_perf[1])\n",
    "plt.plot(iGPC_perf[0], iGPC_perf[1], 'blue')"
   ]
  },
  {
   "cell_type": "code",
   "execution_count": null,
   "id": "efbd9c1b",
   "metadata": {},
   "outputs": [],
   "source": []
  }
 ],
 "metadata": {
  "kernelspec": {
   "display_name": "Python 3",
   "language": "python",
   "name": "python3"
  },
  "language_info": {
   "codemirror_mode": {
    "name": "ipython",
    "version": 3
   },
   "file_extension": ".py",
   "mimetype": "text/x-python",
   "name": "python",
   "nbconvert_exporter": "python",
   "pygments_lexer": "ipython3",
   "version": "3.9.4"
  }
 },
 "nbformat": 4,
 "nbformat_minor": 5
}
