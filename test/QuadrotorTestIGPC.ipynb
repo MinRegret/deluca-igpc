{
 "cells": [
  {
   "cell_type": "code",
   "execution_count": 1,
   "id": "6ca2e881",
   "metadata": {},
   "outputs": [],
   "source": [
    "%load_ext autoreload\n",
    "%autoreload 2"
   ]
  },
  {
   "cell_type": "code",
   "execution_count": 2,
   "id": "251a6682",
   "metadata": {},
   "outputs": [
    {
     "name": "stderr",
     "output_type": "stream",
     "text": [
      "WARNING:absl:No GPU/TPU found, falling back to CPU. (Set TF_CPP_MIN_LOG_LEVEL=0 and rerun for more info.)\n"
     ]
    }
   ],
   "source": [
    "import jax\n",
    "import jax.numpy as jnp\n",
    "import tqdm\n",
    "import flax\n",
    "import deluca.core\n",
    "import matplotlib.pyplot as plt\n",
    "from deluca.igpc.igpc import iGPC_closed\n",
    "from deluca.envs import PlanarQuadrotor"
   ]
  },
  {
   "cell_type": "code",
   "execution_count": 3,
   "id": "d4363a7c",
   "metadata": {},
   "outputs": [
    {
     "name": "stdout",
     "output_type": "stream",
     "text": [
      "iGPC: t = -1, r = 1, c = 168708.515625\n",
      "Trying alpha  1.1\n",
      "iGPC: t = 0, r = 2, c = 27426.640625, alpha = 1.100000023841858, lr = 0.0\n",
      "Trying alpha  1.21\n",
      "iGPC: t = 1, r = 3, c = 17136.142578125, alpha = 1.2100000381469727, lr = 0.0\n",
      "Trying alpha  1.3310001\n",
      "iGPC: t = 2, r = 4, c = 3157.13330078125, alpha = 1.3310000896453857, lr = 0.0\n",
      "Trying alpha  1.4641001\n",
      "iGPC: t = 3, r = 5, c = 2199.74755859375, alpha = 1.4641001224517822, lr = 0.0\n",
      "Trying alpha  1.6105101\n",
      "iGPC: t = 4, r = 6, c = 1974.5078125, alpha = 1.6105101108551025, lr = 0.0\n",
      "Trying alpha  1.7715611\n",
      "Trying alpha  1.6105101\n",
      "Trying alpha  1.2099999\n",
      "iGPC: t = 5, r = 9, c = 980.0321044921875, alpha = 1.209999918937683, lr = 0.0\n",
      "Trying alpha  1.3309999\n",
      "iGPC: t = 6, r = 10, c = 211.4753875732422, alpha = 1.3309998512268066, lr = 0.0\n",
      "Trying alpha  1.4640999\n",
      "iGPC: t = 7, r = 11, c = 116.54130554199219, alpha = 1.4640998840332031, lr = 0.0\n",
      "Trying alpha  1.6105099\n",
      "iGPC: t = 8, r = 12, c = 91.48587799072266, alpha = 1.6105098724365234, lr = 0.0\n",
      "Trying alpha  1.7715609\n",
      "Trying alpha  1.6105099\n",
      "iGPC: t = 9, r = 14, c = 87.46646118164062, alpha = 1.6105098724365234, lr = 0.0\n"
     ]
    }
   ],
   "source": [
    "## Testing IGPC_closed - With LR = 0.0 should match ILC Closed\n",
    "\n",
    "def cost(x, u, sim):\n",
    "    return 0.1 * (u - sim.goal_action) @ (u - sim.goal_action) + (x.arr - sim.goal_state) @ (x.arr - sim.goal_state)\n",
    "\n",
    "\n",
    "wind, T = 0.1, 10\n",
    "env_true, env_sim = PlanarQuadrotor.create(wind=wind), PlanarQuadrotor.create()\n",
    "U_initial = jnp.tile(env_sim.goal_action, (env_sim.H, 1))\n",
    "X, U, _, _, c = iGPC_closed(env_true, env_sim, cost, U_initial, 10, lr=0.0)"
   ]
  },
  {
   "cell_type": "code",
   "execution_count": 4,
   "id": "c688b7e6",
   "metadata": {},
   "outputs": [
    {
     "name": "stdout",
     "output_type": "stream",
     "text": [
      "iGPC: t = -1, r = 1, c = 168708.515625\n",
      "iGPC: t = 5, r = 9, c = 771.8273315429688, alpha = 1.209999918937683, lr = 0.01\n",
      "Trying alpha  1.3309999\n",
      "iGPC: t = 6, r = 10, c = 184.49732971191406, alpha = 1.3309998512268066, lr = 0.01\n",
      "Trying alpha  1.4640999\n",
      "iGPC: t = 7, r = 11, c = 129.64886474609375, alpha = 1.4640998840332031, lr = 0.01\n",
      "Trying alpha  1.6105099\n",
      "iGPC: t = 8, r = 12, c = 105.90931701660156, alpha = 1.6105098724365234, lr = 0.01\n",
      "Trying alpha  1.7715609\n",
      "Trying alpha  1.6105099\n",
      "Trying alpha  1.2099998\n",
      "iGPC: t = 9, r = 15, c = 77.57846069335938, alpha = 1.2099997997283936, lr = 0.01\n"
     ]
    }
   ],
   "source": [
    "# Does slightly better trajectory at a higher learning rate\n",
    "\n",
    "def cost(x, u, sim):\n",
    "    return 0.1 * (u - sim.goal_action) @ (u - sim.goal_action) + (x.arr - sim.goal_state) @ (x.arr - sim.goal_state)\n",
    "\n",
    "\n",
    "wind, T = 0.1, 10\n",
    "env_true, env_sim = PlanarQuadrotor.create(wind=wind), PlanarQuadrotor.create()\n",
    "U_initial = jnp.tile(env_sim.goal_action, (env_sim.H, 1))\n",
    "X, U, _, _, c = iGPC_closed(env_true, env_sim, cost, U_initial, 10, lr=0.01)"
   ]
  },
  {
   "cell_type": "code",
   "execution_count": null,
   "id": "638d8ffe",
   "metadata": {},
   "outputs": [],
   "source": []
  }
 ],
 "metadata": {
  "kernelspec": {
   "display_name": "Python 3",
   "language": "python",
   "name": "python3"
  },
  "language_info": {
   "codemirror_mode": {
    "name": "ipython",
    "version": 3
   },
   "file_extension": ".py",
   "mimetype": "text/x-python",
   "name": "python",
   "nbconvert_exporter": "python",
   "pygments_lexer": "ipython3",
   "version": "3.8.0"
  }
 },
 "nbformat": 4,
 "nbformat_minor": 5
}
