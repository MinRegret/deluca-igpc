{
 "cells": [
  {
   "cell_type": "code",
   "execution_count": 1,
   "id": "6ca2e881",
   "metadata": {},
   "outputs": [],
   "source": [
    "%load_ext autoreload\n",
    "%autoreload 2"
   ]
  },
  {
   "cell_type": "code",
   "execution_count": 2,
   "id": "251a6682",
   "metadata": {},
   "outputs": [
    {
     "name": "stderr",
     "output_type": "stream",
     "text": [
      "WARNING:absl:No GPU/TPU found, falling back to CPU. (Set TF_CPP_MIN_LOG_LEVEL=0 and rerun for more info.)\n"
     ]
    }
   ],
   "source": [
    "import jax\n",
    "import jax.numpy as jnp\n",
    "import tqdm\n",
    "import flax\n",
    "import time\n",
    "import deluca.core\n",
    "import matplotlib.pyplot as plt\n",
    "from ilqr import iLQR\n",
    "from deluca.envs import PlanarQuadrotor\n",
    "from wilhelm.sim.quadrotor import PlanarQuadrotor as wpq\n",
    "import numpy as np"
   ]
  },
  {
   "cell_type": "code",
   "execution_count": 3,
   "id": "ca0bc412",
   "metadata": {},
   "outputs": [],
   "source": [
    "def cost(x, u, sim):\n",
    "    return 0.1 * (u - sim.goal_action) @ (u - sim.goal_action) + (x.arr - sim.goal_state) @ (x.arr - sim.goal_state)\n",
    "\n",
    "env = PlanarQuadrotor.create()\n",
    "#Initial actions\n",
    "U0 = jnp.tile(env.goal_action, (env.H, 1))\n",
    "# Warm up with either file or iLQR\n",
    "# warmup_steps = 8\n",
    "# X, U, k, K, c = iLQR(env_sim, cost, U0, warmup_steps, verbose=False)"
   ]
  },
  {
   "cell_type": "code",
   "execution_count": 4,
   "id": "efbd9c1b",
   "metadata": {},
   "outputs": [
    {
     "name": "stdout",
     "output_type": "stream",
     "text": [
      "Time 0.14448881149291992\n",
      "Time 0.009276866912841797\n",
      "Time 0.005244255065917969\n",
      "Time 0.0048258304595947266\n",
      "Time 0.004687786102294922\n",
      "Time 0.04680180549621582\n",
      "Time 0.0003101825714111328\n",
      "Time 0.0004787445068359375\n",
      "Time 0.00029277801513671875\n",
      "Time 0.0004856586456298828\n"
     ]
    }
   ],
   "source": [
    "## First comparison - simple one step env evaluation\n",
    "state = env.init()\n",
    "for i in range(5):\n",
    "    s = time.time()\n",
    "    state = env(state, U0[0])\n",
    "    print(\"Time\", time.time()-s)\n",
    "    \n",
    "## Comparing to wilhelm\n",
    "wenv = wpq()\n",
    "wenv.reset()\n",
    "U0 = np.tile(np.zeros_like(wenv.goal_action), (wenv.H, 1))\n",
    "for i in range(5):\n",
    "    s = time.time()\n",
    "    wenv.step(U0[0])\n",
    "    print(\"Time\", time.time()-s)\n",
    "    \n",
    "    \n",
    "##### Notice a 20x slowdown in the forward step\n",
    "##### Fixing this is the first step"
   ]
  },
  {
   "cell_type": "code",
   "execution_count": 8,
   "id": "930c6e6e",
   "metadata": {},
   "outputs": [
    {
     "name": "stdout",
     "output_type": "stream",
     "text": [
      "Time 0.02914571762084961\n",
      "Time 0.03044605255126953\n",
      "Time 0.03442502021789551\n",
      "Time 0.030633926391601562\n",
      "Time 0.029471158981323242\n",
      "Time 0.17121410369873047\n",
      "Time 0.00043892860412597656\n",
      "Time 0.0004811286926269531\n",
      "Time 0.0004947185516357422\n",
      "Time 0.00035309791564941406\n"
     ]
    }
   ],
   "source": [
    "## First comparison - simple one step env evaluation\n",
    "state = env.init()\n",
    "for i in range(5):\n",
    "    s = time.time()\n",
    "    state = env(state, U0[0])\n",
    "    _ = jax.jacfwd(env, argnums=(0,1))(state, U0[0])\n",
    "    print(\"Time\", time.time()-s)\n",
    "    \n",
    "## Comparing to wilhelm\n",
    "wenv = wpq()\n",
    "wenv.reset()\n",
    "U0 = np.tile(np.zeros_like(env.goal_action), (env.H, 1))\n",
    "for i in range(5):\n",
    "    s = time.time()\n",
    "    state, _ = wenv.step(U0[0])\n",
    "    _, _ = wenv.f_x(state, U0[0]), wenv.f_u(state, U0[0])\n",
    "    print(\"Time\", time.time()-s)\n",
    "\n",
    "### Notice about a 100X time difference now"
   ]
  },
  {
   "cell_type": "code",
   "execution_count": null,
   "id": "dd9c8159",
   "metadata": {},
   "outputs": [],
   "source": []
  }
 ],
 "metadata": {
  "kernelspec": {
   "display_name": "Python 3",
   "language": "python",
   "name": "python3"
  },
  "language_info": {
   "codemirror_mode": {
    "name": "ipython",
    "version": 3
   },
   "file_extension": ".py",
   "mimetype": "text/x-python",
   "name": "python",
   "nbconvert_exporter": "python",
   "pygments_lexer": "ipython3",
   "version": "3.9.4"
  }
 },
 "nbformat": 4,
 "nbformat_minor": 5
}
