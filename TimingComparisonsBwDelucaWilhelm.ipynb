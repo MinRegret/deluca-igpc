{
 "cells": [
  {
   "cell_type": "code",
   "execution_count": 1,
   "id": "6ca2e881",
   "metadata": {},
   "outputs": [],
   "source": [
    "%load_ext autoreload\n",
    "%autoreload 2"
   ]
  },
  {
   "cell_type": "code",
   "execution_count": 2,
   "id": "251a6682",
   "metadata": {},
   "outputs": [
    {
     "name": "stderr",
     "output_type": "stream",
     "text": [
      "WARNING:absl:No GPU/TPU found, falling back to CPU. (Set TF_CPP_MIN_LOG_LEVEL=0 and rerun for more info.)\n"
     ]
    }
   ],
   "source": [
    "import jax\n",
    "import jax.numpy as jnp\n",
    "import tqdm\n",
    "import flax\n",
    "import time\n",
    "import deluca.core\n",
    "import matplotlib.pyplot as plt\n",
    "from deluca.igpc.ilqr import iLQR\n",
    "from deluca.envs import PlanarQuadrotor\n",
    "from wilhelm.sim.quadrotor import PlanarQuadrotor as wpq\n",
    "import numpy as np"
   ]
  },
  {
   "cell_type": "code",
   "execution_count": 3,
   "id": "ca0bc412",
   "metadata": {},
   "outputs": [],
   "source": [
    "def cost(x, u, sim):\n",
    "    return 0.1 * (u - sim.goal_action) @ (u - sim.goal_action) + (x.arr - sim.goal_state) @ (x.arr - sim.goal_state)\n",
    "\n",
    "env = PlanarQuadrotor.create()\n",
    "#Initial actions\n",
    "U0 = jnp.tile(env.goal_action, (env.H, 1))\n",
    "# Warm up with either file or iLQR\n",
    "# warmup_steps = 8\n",
    "# X, U, k, K, c = iLQR(env_sim, cost, U0, warmup_steps, verbose=False)"
   ]
  },
  {
   "cell_type": "markdown",
   "id": "31208df4",
   "metadata": {},
   "source": [
    "# First comparison - simple one step env evaluation"
   ]
  },
  {
   "cell_type": "markdown",
   "id": "7df479fa",
   "metadata": {},
   "source": [
    "## deluca"
   ]
  },
  {
   "cell_type": "code",
   "execution_count": 19,
   "id": "4cea908b",
   "metadata": {},
   "outputs": [
    {
     "name": "stdout",
     "output_type": "stream",
     "text": [
      "4.43 s ± 114 ms per loop (mean ± std. dev. of 7 runs, 1 loop each)\n"
     ]
    }
   ],
   "source": [
    "%%timeit\n",
    "state = env.init()\n",
    "for i in range(1000):\n",
    "    state, _ = env(state, U0[0])"
   ]
  },
  {
   "cell_type": "markdown",
   "id": "0734667d",
   "metadata": {},
   "source": [
    "## deluca with jax.lax.scan"
   ]
  },
  {
   "cell_type": "code",
   "execution_count": 28,
   "id": "b3e8774f",
   "metadata": {},
   "outputs": [],
   "source": [
    "@jax.jit\n",
    "def loop(carry, args):\n",
    "    env, state = carry\n",
    "    state, _ = env(state, U0[0])\n",
    "    return (env, state), args"
   ]
  },
  {
   "cell_type": "code",
   "execution_count": 29,
   "id": "de07b2fb",
   "metadata": {},
   "outputs": [
    {
     "name": "stdout",
     "output_type": "stream",
     "text": [
      "1.76 ms ± 42.1 µs per loop (mean ± std. dev. of 7 runs, 1000 loops each)\n"
     ]
    }
   ],
   "source": [
    "%%timeit\n",
    "jax.lax.scan(loop, (env, env.init()), jnp.array(list(range(1000))))"
   ]
  },
  {
   "cell_type": "markdown",
   "id": "caffec22",
   "metadata": {},
   "source": [
    "## wilhelm"
   ]
  },
  {
   "cell_type": "code",
   "execution_count": 22,
   "id": "64bf63f9",
   "metadata": {},
   "outputs": [
    {
     "name": "stdout",
     "output_type": "stream",
     "text": [
      "88.2 ms ± 643 µs per loop (mean ± std. dev. of 7 runs, 10 loops each)\n"
     ]
    }
   ],
   "source": [
    "%%timeit\n",
    "wenv = wpq()\n",
    "wenv.reset()\n",
    "U0 = np.tile(np.zeros_like(wenv.goal_action), (wenv.H, 1))\n",
    "for i in range(1000):\n",
    "    wenv.step(U0[0])"
   ]
  },
  {
   "cell_type": "code",
   "execution_count": 6,
   "id": "efbd9c1b",
   "metadata": {},
   "outputs": [
    {
     "name": "stdout",
     "output_type": "stream",
     "text": [
      "deluca\n",
      "Time 0.006835222244262695\n",
      "Time 0.0058498382568359375\n",
      "Time 0.0055637359619140625\n",
      "Time 0.005511045455932617\n",
      "Time 0.00557708740234375\n",
      "wilhelm\n",
      "Time 0.04752230644226074\n",
      "Time 0.0003154277801513672\n",
      "Time 0.00018477439880371094\n",
      "Time 8.749961853027344e-05\n",
      "Time 0.00018525123596191406\n"
     ]
    }
   ],
   "source": [
    "## First comparison - simple one step env evaluation\n",
    "print(\"deluca\")\n",
    "state = env.init()\n",
    "for i in range(5):\n",
    "    s = time.time()\n",
    "    state, _ = env(state, U0[0])\n",
    "    print(\"Time\", time.time()-s)\n",
    "    \n",
    "## Comparing to wilhelm\n",
    "print(\"wilhelm\")\n",
    "wenv = wpq()\n",
    "wenv.reset()\n",
    "U0 = np.tile(np.zeros_like(wenv.goal_action), (wenv.H, 1))\n",
    "for i in range(5):\n",
    "    s = time.time()\n",
    "    wenv.step(U0[0])\n",
    "    print(\"Time\", time.time()-s)\n",
    "    \n",
    "    \n",
    "##### Notice a 20x slowdown in the forward step\n",
    "##### Fixing this is the first step"
   ]
  },
  {
   "cell_type": "markdown",
   "id": "38e13403",
   "metadata": {},
   "source": [
    "# Second comparison - env + jacobian"
   ]
  },
  {
   "cell_type": "markdown",
   "id": "cfaee55c",
   "metadata": {},
   "source": [
    "## deluca"
   ]
  },
  {
   "cell_type": "code",
   "execution_count": 26,
   "id": "850dc92a",
   "metadata": {},
   "outputs": [
    {
     "name": "stdout",
     "output_type": "stream",
     "text": [
      "32.9 s ± 641 ms per loop (mean ± std. dev. of 7 runs, 1 loop each)\n"
     ]
    }
   ],
   "source": [
    "%%timeit\n",
    "state = env.init()\n",
    "for i in range(1000):\n",
    "    state, _ = env(state, U0[0])\n",
    "    _ = jax.jacfwd(env, argnums=(0,1))(state, U0[0])"
   ]
  },
  {
   "cell_type": "markdown",
   "id": "e23e3832",
   "metadata": {},
   "source": [
    "## deluca with jax.lax.scan"
   ]
  },
  {
   "cell_type": "code",
   "execution_count": 30,
   "id": "c0e31f0f",
   "metadata": {},
   "outputs": [],
   "source": [
    "@jax.jit\n",
    "def loop(carry, args):\n",
    "    env, state = carry\n",
    "    state, _ = env(state, U0[0])\n",
    "    _ = jax.jacfwd(env, argnums=(0,1))(state, U0[0])\n",
    "    return (env, state), args"
   ]
  },
  {
   "cell_type": "code",
   "execution_count": 31,
   "id": "f0edbafc",
   "metadata": {},
   "outputs": [
    {
     "name": "stdout",
     "output_type": "stream",
     "text": [
      "1.84 ms ± 5.56 µs per loop (mean ± std. dev. of 7 runs, 1000 loops each)\n"
     ]
    }
   ],
   "source": [
    "%%timeit\n",
    "jax.lax.scan(loop, (env, env.init()), jnp.array(list(range(1000))))"
   ]
  },
  {
   "cell_type": "markdown",
   "id": "b9eea0a7",
   "metadata": {},
   "source": [
    "## wilhelm"
   ]
  },
  {
   "cell_type": "code",
   "execution_count": 27,
   "id": "638af179",
   "metadata": {},
   "outputs": [
    {
     "name": "stdout",
     "output_type": "stream",
     "text": [
      "267 ms ± 2.26 ms per loop (mean ± std. dev. of 7 runs, 1 loop each)\n"
     ]
    }
   ],
   "source": [
    "%%timeit\n",
    "wenv = wpq()\n",
    "wenv.reset()\n",
    "U0 = np.tile(np.zeros_like(env.goal_action), (env.H, 1))\n",
    "for i in range(1000):\n",
    "    state, _ = wenv.step(U0[0])\n",
    "    _, _ = wenv.f_x(state, U0[0]), wenv.f_u(state, U0[0])"
   ]
  },
  {
   "cell_type": "code",
   "execution_count": 8,
   "id": "930c6e6e",
   "metadata": {},
   "outputs": [
    {
     "name": "stdout",
     "output_type": "stream",
     "text": [
      "Time 0.02914571762084961\n",
      "Time 0.03044605255126953\n",
      "Time 0.03442502021789551\n",
      "Time 0.030633926391601562\n",
      "Time 0.029471158981323242\n",
      "Time 0.17121410369873047\n",
      "Time 0.00043892860412597656\n",
      "Time 0.0004811286926269531\n",
      "Time 0.0004947185516357422\n",
      "Time 0.00035309791564941406\n"
     ]
    }
   ],
   "source": [
    "## First comparison - simple one step env evaluation\n",
    "state = env.init()\n",
    "for i in range(5):\n",
    "    s = time.time()\n",
    "    state = env(state, U0[0])\n",
    "    _ = jax.jacfwd(env, argnums=(0,1))(state, U0[0])\n",
    "    print(\"Time\", time.time()-s)\n",
    "    \n",
    "## Comparing to wilhelm\n",
    "wenv = wpq()\n",
    "wenv.reset()\n",
    "U0 = np.tile(np.zeros_like(env.goal_action), (env.H, 1))\n",
    "for i in range(5):\n",
    "    s = time.time()\n",
    "    state, _ = wenv.step(U0[0])\n",
    "    _, _ = wenv.f_x(state, U0[0]), wenv.f_u(state, U0[0])\n",
    "    print(\"Time\", time.time()-s)\n",
    "\n",
    "### Notice about a 100X time difference now"
   ]
  },
  {
   "cell_type": "code",
   "execution_count": null,
   "id": "dd9c8159",
   "metadata": {},
   "outputs": [],
   "source": []
  }
 ],
 "metadata": {
  "kernelspec": {
   "display_name": "Python 3",
   "language": "python",
   "name": "python3"
  },
  "language_info": {
   "codemirror_mode": {
    "name": "ipython",
    "version": 3
   },
   "file_extension": ".py",
   "mimetype": "text/x-python",
   "name": "python",
   "nbconvert_exporter": "python",
   "pygments_lexer": "ipython3",
   "version": "3.8.0"
  }
 },
 "nbformat": 4,
 "nbformat_minor": 5
}
