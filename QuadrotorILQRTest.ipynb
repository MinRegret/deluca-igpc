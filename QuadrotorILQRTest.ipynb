{
 "cells": [
  {
   "cell_type": "code",
   "execution_count": 1,
   "id": "6ca2e881",
   "metadata": {},
   "outputs": [],
   "source": [
    "%load_ext autoreload\n",
    "%autoreload 2"
   ]
  },
  {
   "cell_type": "code",
   "execution_count": 2,
   "id": "251a6682",
   "metadata": {},
   "outputs": [
    {
     "name": "stderr",
     "output_type": "stream",
     "text": [
      "WARNING:absl:No GPU/TPU found, falling back to CPU. (Set TF_CPP_MIN_LOG_LEVEL=0 and rerun for more info.)\n"
     ]
    }
   ],
   "source": [
    "import jax\n",
    "import jax.numpy as jnp\n",
    "import tqdm\n",
    "import flax\n",
    "import deluca.core\n",
    "import matplotlib.pyplot as plt\n",
    "from ilqr import iLQR, iLQR_open, iLQR_closed\n",
    "from deluca.envs import PlanarQuadrotor"
   ]
  },
  {
   "cell_type": "code",
   "execution_count": 5,
   "id": "ae9406af",
   "metadata": {},
   "outputs": [
    {
     "name": "stdout",
     "output_type": "stream",
     "text": [
      "iLQR (true): t = 0, r = 1, c = 357221.34375\n",
      "iLQR (true): t = 0, r = 2, alphac = 0.550000011920929, cost = 89396.578125\n",
      "iLQR (true): t = 0, r = 2, c = 89396.578125\n",
      "iLQR (true): t = 1, r = 3, alphac = 0.6050000190734863, cost = 18147.2578125\n",
      "iLQR (true): t = 1, r = 3, c = 18147.2578125\n",
      "iLQR (true): t = 2, r = 4, alphac = 0.6655000448226929, cost = 2876.22216796875\n",
      "iLQR (true): t = 2, r = 4, c = 2876.22216796875\n",
      "iLQR (true): t = 3, r = 5, alphac = 0.7320500612258911, cost = 368.69378662109375\n",
      "iLQR (true): t = 3, r = 5, c = 368.69378662109375\n",
      "iLQR (true): t = 4, r = 6, alphac = 0.8052550554275513, cost = 75.40987396240234\n",
      "iLQR (true): t = 4, r = 6, c = 75.40987396240234\n",
      "iLQR (true): t = 5, r = 7, alphac = 0.8857805728912354, cost = 53.57439422607422\n",
      "iLQR (true): t = 5, r = 7, c = 53.57439422607422\n",
      "iLQR (true): t = 6, r = 8, alphac = 0.9743586182594299, cost = 52.72297668457031\n",
      "iLQR (true): t = 6, r = 8, c = 52.72297668457031\n",
      "iLQR (true): t = 7, r = 9, alphac = 1.0717945098876953, cost = 52.711463928222656\n",
      "iLQR (true): t = 7, r = 9, c = 52.711463928222656\n",
      "iLQR (true): t = 8, r = 10, alphac = 1.178973913192749, cost = 52.71144104003906\n",
      "iLQR (true): t = 8, r = 10, c = 52.71144104003906\n",
      "iLQR (true): t = 9, r = 11, alphac = 1.296871304512024, cost = 52.71142578125\n",
      "iLQR (true): t = 9, r = 11, c = 52.71142578125\n"
     ]
    }
   ],
   "source": [
    "## Testing ILQR\n",
    "env = PlanarQuadrotor.create()\n",
    "def cost(x, u, sim):\n",
    "    return 0.1 * (u - sim.goal_action) @ (u - sim.goal_action) + (x.arr - sim.goal_state) @ (x.arr - sim.goal_state)\n",
    "\n",
    "U_initial = jnp.tile(jnp.zeros_like(env.goal_action), (env.H, 1))\n",
    "X, U, k, K, c = iLQR(env, cost, U_initial, 10, verbose=True)"
   ]
  },
  {
   "cell_type": "code",
   "execution_count": 6,
   "id": "6d8df357",
   "metadata": {},
   "outputs": [
    {
     "name": "stdout",
     "output_type": "stream",
     "text": [
      "iLQR (sim): t = -1, r = 1, c = 199.999267578125\n",
      "iLQR (sim): t = 0, r = 2, alphac = 0.550000011920929, cost = 89.76972961425781\n",
      "iLQR (sim): t = 0, r = 2, c = 89.76972961425781\n",
      "iLQR (sim): t = 1, r = 3, alphac = 0.6050000190734863, cost = 60.33021545410156\n",
      "iLQR (sim): t = 1, r = 3, c = 60.33021545410156\n",
      "iLQR (sim): t = 2, r = 4, alphac = 0.6655000448226929, cost = 53.93872833251953\n",
      "iLQR (sim): t = 2, r = 4, c = 53.93872833251953\n",
      "iLQR (sim): t = 3, r = 5, alphac = 0.7320500612258911, cost = 52.85933303833008\n",
      "iLQR (sim): t = 3, r = 5, c = 52.85933303833008\n",
      "iLQR (sim): t = 4, r = 6, alphac = 0.8052550554275513, cost = 52.72452926635742\n",
      "iLQR (sim): t = 4, r = 6, c = 52.72452926635742\n",
      "iLQR (sim): t = 5, r = 7, alphac = 0.8857805728912354, cost = 52.7124137878418\n",
      "iLQR (sim): t = 5, r = 7, c = 52.7124137878418\n",
      "iLQR (sim): t = 6, r = 8, alphac = 0.9743586182594299, cost = 52.71151351928711\n",
      "iLQR (sim): t = 6, r = 8, c = 52.71151351928711\n",
      "iLQR (sim): t = 7, r = 9, alphac = 1.0717945098876953, cost = 52.711429595947266\n",
      "iLQR (sim): t = 7, r = 9, c = 52.711429595947266\n",
      "iLQR (sim): t = 8, r = 10, alphac = 1.178973913192749, cost = 52.7114372253418\n",
      "iLQR (sim): t = 8, r = 11, alphac = 1.0717943906784058, cost = 52.7114372253418\n",
      "iLQR (sim): t = 8, r = 12, alphac = 0.8052549362182617, cost = 52.7114372253418\n",
      "iLQR (sim): t = 8, r = 13, alphac = 0.4999999403953552, cost = 52.7114372253418\n",
      "iLQR (sim): t = 8, r = 14, alphac = 0.2565789818763733, cost = 52.7114372253418\n",
      "iLQR (sim): t = 8, r = 15, alphac = 0.10881450772285461, cost = 52.7114372253418\n",
      "iLQR (sim): t = 8, r = 16, alphac = 0.03813881427049637, cost = 52.7114372253418\n",
      "iLQR (sim): t = 8, r = 17, alphac = 0.011047453619539738, cost = 52.7114372253418\n",
      "iLQR (sim): t = 8, r = 18, alphac = 0.002644671592861414, cost = 52.7114372253418\n",
      "iLQR (sim): t = 8, r = 19, alphac = 0.0005232339608483016, cost = 52.7114372253418\n",
      "iLQR (sim): t = 9, r = 20, alphac = 1.178973913192749, cost = 52.7114372253418\n",
      "iLQR (sim): t = 9, r = 21, alphac = 1.0717943906784058, cost = 52.7114372253418\n",
      "iLQR (sim): t = 9, r = 22, alphac = 0.8052549362182617, cost = 52.7114372253418\n",
      "iLQR (sim): t = 9, r = 23, alphac = 0.4999999403953552, cost = 52.7114372253418\n",
      "iLQR (sim): t = 9, r = 24, alphac = 0.2565789818763733, cost = 52.7114372253418\n",
      "iLQR (sim): t = 9, r = 25, alphac = 0.10881450772285461, cost = 52.7114372253418\n",
      "iLQR (sim): t = 9, r = 26, alphac = 0.03813881427049637, cost = 52.7114372253418\n",
      "iLQR (sim): t = 9, r = 27, alphac = 0.011047453619539738, cost = 52.7114372253418\n",
      "iLQR (sim): t = 9, r = 28, alphac = 0.002644671592861414, cost = 52.7114372253418\n",
      "iLQR (sim): t = 9, r = 29, alphac = 0.0005232339608483016, cost = 52.7114372253418\n",
      "iLQR (open): t = 1, r = 1, c = 64758.3671875\n"
     ]
    }
   ],
   "source": [
    "## Testing ILQR Open\n",
    "\n",
    "def cost(x, u, sim):\n",
    "    return 0.1 * (u - sim.goal_action) @ (u - sim.goal_action) + (x.arr - sim.goal_state) @ (x.arr - sim.goal_state)\n",
    "\n",
    "\n",
    "env_true, env_sim = PlanarQuadrotor.create(wind=0.1), PlanarQuadrotor.create()\n",
    "U_initial = jnp.tile(env_sim.goal_action, (env_sim.H, 1))\n",
    "X, U, _, _, c = iLQR_open(env_true, env_sim, cost, U_initial, 10)\n",
    "assert c < 72000"
   ]
  },
  {
   "cell_type": "code",
   "execution_count": 7,
   "id": "56c313b6",
   "metadata": {},
   "outputs": [
    {
     "name": "stdout",
     "output_type": "stream",
     "text": [
      "iLQR (sim): t = -1, r = 1, c = 199.999267578125\n",
      "iLQR (sim): t = 0, r = 2, alphac = 0.550000011920929, cost = 89.76972961425781\n",
      "iLQR (sim): t = 0, r = 2, c = 89.76972961425781\n",
      "iLQR (sim): t = 1, r = 3, alphac = 0.6050000190734863, cost = 60.33021545410156\n",
      "iLQR (sim): t = 1, r = 3, c = 60.33021545410156\n",
      "iLQR (sim): t = 2, r = 4, alphac = 0.6655000448226929, cost = 53.93872833251953\n",
      "iLQR (sim): t = 2, r = 4, c = 53.93872833251953\n",
      "iLQR (sim): t = 3, r = 5, alphac = 0.7320500612258911, cost = 52.85933303833008\n",
      "iLQR (sim): t = 3, r = 5, c = 52.85933303833008\n",
      "iLQR (sim): t = 4, r = 6, alphac = 0.8052550554275513, cost = 52.72452926635742\n",
      "iLQR (sim): t = 4, r = 6, c = 52.72452926635742\n",
      "iLQR (sim): t = 5, r = 7, alphac = 0.8857805728912354, cost = 52.7124137878418\n",
      "iLQR (sim): t = 5, r = 7, c = 52.7124137878418\n",
      "iLQR (sim): t = 6, r = 8, alphac = 0.9743586182594299, cost = 52.71151351928711\n",
      "iLQR (sim): t = 6, r = 8, c = 52.71151351928711\n",
      "iLQR (sim): t = 7, r = 9, alphac = 1.0717945098876953, cost = 52.711429595947266\n",
      "iLQR (sim): t = 7, r = 9, c = 52.711429595947266\n",
      "iLQR (sim): t = 8, r = 10, alphac = 1.178973913192749, cost = 52.7114372253418\n",
      "iLQR (sim): t = 8, r = 11, alphac = 1.0717943906784058, cost = 52.7114372253418\n",
      "iLQR (sim): t = 8, r = 12, alphac = 0.8052549362182617, cost = 52.7114372253418\n",
      "iLQR (sim): t = 8, r = 13, alphac = 0.4999999403953552, cost = 52.7114372253418\n",
      "iLQR (sim): t = 8, r = 14, alphac = 0.2565789818763733, cost = 52.7114372253418\n",
      "iLQR (sim): t = 8, r = 15, alphac = 0.10881450772285461, cost = 52.7114372253418\n",
      "iLQR (sim): t = 8, r = 16, alphac = 0.03813881427049637, cost = 52.7114372253418\n",
      "iLQR (sim): t = 8, r = 17, alphac = 0.011047453619539738, cost = 52.7114372253418\n",
      "iLQR (sim): t = 8, r = 18, alphac = 0.002644671592861414, cost = 52.7114372253418\n",
      "iLQR (sim): t = 8, r = 19, alphac = 0.0005232339608483016, cost = 52.7114372253418\n",
      "iLQR (sim): t = 9, r = 20, alphac = 1.178973913192749, cost = 52.7114372253418\n",
      "iLQR (sim): t = 9, r = 21, alphac = 1.0717943906784058, cost = 52.7114372253418\n",
      "iLQR (sim): t = 9, r = 22, alphac = 0.8052549362182617, cost = 52.7114372253418\n",
      "iLQR (sim): t = 9, r = 23, alphac = 0.4999999403953552, cost = 52.7114372253418\n",
      "iLQR (sim): t = 9, r = 24, alphac = 0.2565789818763733, cost = 52.7114372253418\n",
      "iLQR (sim): t = 9, r = 25, alphac = 0.10881450772285461, cost = 52.7114372253418\n",
      "iLQR (sim): t = 9, r = 26, alphac = 0.03813881427049637, cost = 52.7114372253418\n",
      "iLQR (sim): t = 9, r = 27, alphac = 0.011047453619539738, cost = 52.7114372253418\n",
      "iLQR (sim): t = 9, r = 28, alphac = 0.002644671592861414, cost = 52.7114372253418\n",
      "iLQR (sim): t = 9, r = 29, alphac = 0.0005232339608483016, cost = 52.7114372253418\n",
      "iLQR (closed): t = 1, r = 1, c = 88.35090637207031\n"
     ]
    }
   ],
   "source": [
    "## Testing ILQR Closed\n",
    "\n",
    "def cost(x, u, sim):\n",
    "    return 0.1 * (u - sim.goal_action) @ (u - sim.goal_action) + (x.arr - sim.goal_state) @ (x.arr - sim.goal_state)\n",
    "\n",
    "\n",
    "env_true, env_sim = PlanarQuadrotor.create(wind=0.1), PlanarQuadrotor.create()\n",
    "U_initial = jnp.tile(env_sim.goal_action, (env_sim.H, 1))\n",
    "X, U, _, _, c = iLQR_closed(env_true, env_sim, cost, U_initial, 10)\n",
    "assert c < 90"
   ]
  },
  {
   "cell_type": "code",
   "execution_count": null,
   "id": "f6b1e7ca",
   "metadata": {},
   "outputs": [],
   "source": []
  }
 ],
 "metadata": {
  "kernelspec": {
   "display_name": "Python 3",
   "language": "python",
   "name": "python3"
  },
  "language_info": {
   "codemirror_mode": {
    "name": "ipython",
    "version": 3
   },
   "file_extension": ".py",
   "mimetype": "text/x-python",
   "name": "python",
   "nbconvert_exporter": "python",
   "pygments_lexer": "ipython3",
   "version": "3.9.4"
  }
 },
 "nbformat": 4,
 "nbformat_minor": 5
}
