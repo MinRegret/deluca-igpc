{
 "cells": [
  {
   "cell_type": "markdown",
   "id": "83161018",
   "metadata": {},
   "source": [
    "# [A Regret Minimization Approach to Iterative Learning Control](https://arxiv.org/pdf/2102.13478.pdf )"
   ]
  },
  {
   "cell_type": "code",
   "execution_count": 1,
   "id": "6ca2e881",
   "metadata": {},
   "outputs": [],
   "source": [
    "%load_ext autoreload\n",
    "%autoreload 2"
   ]
  },
  {
   "cell_type": "code",
   "execution_count": 2,
   "id": "251a6682",
   "metadata": {},
   "outputs": [
    {
     "name": "stderr",
     "output_type": "stream",
     "text": [
      "WARNING:absl:No GPU/TPU found, falling back to CPU. (Set TF_CPP_MIN_LOG_LEVEL=0 and rerun for more info.)\n"
     ]
    }
   ],
   "source": [
    "import jax\n",
    "import jax.numpy as jnp\n",
    "from deluca.igpc.ilqr import iLQR\n",
    "from deluca.envs import PlanarQuadrotor"
   ]
  },
  {
   "cell_type": "markdown",
   "id": "3247e160",
   "metadata": {},
   "source": [
    "### System - Planar Quadrotor with wind ([deluca implementation](https://github.com/google/deluca/blob/main/deluca/envs/classic/_planar_quadrotor.py))\n",
    "### Algorithms Compared\n",
    "* **Closed Loop ILQG** - [Li,Todorov](https://homes.cs.washington.edu/~todorov/papers/LiICINCO04.pdf) ([deluca implementation](https://github.com/MinRegret/deluca-igpc/blob/main/deluca/igpc/ilqr.py))\n",
    "\n",
    "* **iLC - Iterative Learning Control** [Abeel et al.](https://ai.stanford.edu/~ang/papers/icml06-usinginaccuratemodelsinrl.pdf) ([deluca implementation](https://github.com/MinRegret/deluca-igpc/blob/main/deluca/igpc/ilc.py))\n",
    "\n",
    "* **iGPC - Iterative GPC** [Agarwal et. al.](https://arxiv.org/abs/2102.13478) ([deluca implementation](https://github.com/MinRegret/deluca-igpc/blob/main/deluca/igpc/igpc.py)"
   ]
  },
  {
   "cell_type": "code",
   "execution_count": 3,
   "id": "ca0bc412",
   "metadata": {},
   "outputs": [],
   "source": [
    "def cost(x, u, sim):\n",
    "    return 0.1 * (u - sim.goal_action) @ (u - sim.goal_action) + (x.arr - sim.goal_state) @ (x.arr - sim.goal_state)\n",
    "\n",
    "env_true, env_sim = PlanarQuadrotor.create(wind=0.4), PlanarQuadrotor.create()\n",
    "#Initial actions\n",
    "U0 = jnp.tile(env_sim.goal_action, (env_sim.H, 1))\n",
    "# Warm up with either file or iLQR\n",
    "warmup_steps = 8\n",
    "X, U, k, K, c = iLQR(env_sim, cost, U0, warmup_steps, verbose=False)"
   ]
  },
  {
   "cell_type": "code",
   "execution_count": 4,
   "id": "2f475bb3",
   "metadata": {},
   "outputs": [],
   "source": [
    "%%capture iLC_output\n",
    "## Run ILC\n",
    "from deluca.igpc.ilc import iLC_closed\n",
    "T = 40\n",
    "iLC_result = iLC_closed(env_true, env_sim, cost, U, T, k, K, X, ref_alpha=0.2)"
   ]
  },
  {
   "cell_type": "code",
   "execution_count": 5,
   "id": "b86eeea1",
   "metadata": {},
   "outputs": [
    {
     "name": "stdout",
     "output_type": "stream",
     "text": [
      "iLC: t = -1, r = 1, c = 4487.1943359375\n",
      "iLC (closed+alpha=0.2): t = 0, r = 3, c = 4026.63623046875, alpha = 0.19999998807907104\n",
      "iLC (closed+alpha=0.2): t = 1, r = 8, c = 3935.43359375, alpha = 0.047878388315439224\n",
      "iLC (closed+alpha=0.2): t = 2, r = 9, c = 3905.068115234375, alpha = 0.052666228264570236\n",
      "iLC (closed+alpha=0.2): t = 3, r = 11, c = 3903.933349609375, alpha = 0.05266622453927994\n",
      "iLC (closed+alpha=0.2): t = 4, r = 13, c = 3899.56591796875, alpha = 0.05266622081398964\n",
      "iLC (closed+alpha=0.2): t = 5, r = 14, c = 3874.07080078125, alpha = 0.05793284252285957\n",
      "iLC (closed+alpha=0.2): t = 6, r = 15, c = 3803.802490234375, alpha = 0.06372612714767456\n",
      "iLC (closed+alpha=0.2): t = 7, r = 16, c = 3670.319091796875, alpha = 0.07009874284267426\n",
      "iLC (closed+alpha=0.2): t = 8, r = 17, c = 3462.5673828125, alpha = 0.07710861414670944\n",
      "iLC (closed+alpha=0.2): t = 9, r = 18, c = 3179.23828125, alpha = 0.08481947332620621\n",
      "iLC (closed+alpha=0.2): t = 10, r = 19, c = 2830.267578125, alpha = 0.09330142289400101\n",
      "iLC (closed+alpha=0.2): t = 11, r = 20, c = 2435.4970703125, alpha = 0.1026315689086914\n",
      "iLC (closed+alpha=0.2): t = 12, r = 21, c = 2020.4637451171875, alpha = 0.11289472877979279\n",
      "iLC (closed+alpha=0.2): t = 13, r = 22, c = 1611.343017578125, alpha = 0.12418419867753983\n",
      "iLC (closed+alpha=0.2): t = 14, r = 23, c = 1231.07568359375, alpha = 0.13660262525081635\n",
      "iLC (closed+alpha=0.2): t = 15, r = 24, c = 898.0249633789062, alpha = 0.15026289224624634\n",
      "iLC (closed+alpha=0.2): t = 16, r = 25, c = 628.7822265625, alpha = 0.16528917849063873\n",
      "iLC (closed+alpha=0.2): t = 17, r = 26, c = 447.6534423828125, alpha = 0.18181809782981873\n",
      "iLC (closed+alpha=0.2): t = 18, r = 27, c = 385.6974792480469, alpha = 0.19999991357326508\n",
      "iLC (closed+alpha=0.2): t = 19, r = 30, c = 384.6062316894531, alpha = 0.15026287734508514\n",
      "iLC (closed+alpha=0.2): t = 20, r = 31, c = 383.4832763671875, alpha = 0.16528916358947754\n",
      "iLC (closed+alpha=0.2): t = 21, r = 32, c = 364.38055419921875, alpha = 0.18181808292865753\n",
      "iLC (closed+alpha=0.2): t = 22, r = 33, c = 322.37518310546875, alpha = 0.19999989867210388\n",
      "iLC (closed+alpha=0.2): t = 23, r = 34, c = 263.305419921875, alpha = 0.21999989449977875\n",
      "iLC (closed+alpha=0.2): t = 24, r = 35, c = 201.11825561523438, alpha = 0.24199987947940826\n",
      "iLC (closed+alpha=0.2): t = 25, r = 36, c = 153.22518920898438, alpha = 0.26619985699653625\n",
      "iLC (closed+alpha=0.2): t = 26, r = 37, c = 132.0862579345703, alpha = 0.2928198575973511\n",
      "iLC (closed+alpha=0.2): t = 27, r = 40, c = 130.7237548828125, alpha = 0.21999986469745636\n",
      "iLC (closed+alpha=0.2): t = 28, r = 45, c = 130.63209533691406, alpha = 0.05266619846224785\n",
      "iLC (closed+alpha=0.2): t = 29, r = 46, c = 130.6204833984375, alpha = 0.05793282017111778\n",
      "iLC (closed+alpha=0.2): t = 30, r = 48, c = 130.6128387451172, alpha = 0.05793282017111778\n",
      "iLC (closed+alpha=0.2): t = 31, r = 49, c = 130.55978393554688, alpha = 0.06372610479593277\n",
      "iLC (closed+alpha=0.2): t = 32, r = 50, c = 130.37973022460938, alpha = 0.07009871304035187\n",
      "iLC (closed+alpha=0.2): t = 33, r = 51, c = 129.97608947753906, alpha = 0.07710858434438705\n",
      "iLC (closed+alpha=0.2): t = 34, r = 52, c = 129.24224853515625, alpha = 0.08481944352388382\n",
      "iLC (closed+alpha=0.2): t = 35, r = 53, c = 128.07455444335938, alpha = 0.09330138564109802\n",
      "iLC (closed+alpha=0.2): t = 36, r = 54, c = 126.38323211669922, alpha = 0.10263152420520782\n",
      "iLC (closed+alpha=0.2): t = 37, r = 55, c = 124.12401580810547, alpha = 0.11289467662572861\n",
      "iLC (closed+alpha=0.2): t = 38, r = 56, c = 121.31269836425781, alpha = 0.12418414652347565\n",
      "iLC (closed+alpha=0.2): t = 39, r = 57, c = 118.04798889160156, alpha = 0.13660256564617157\n"
     ]
    }
   ],
   "source": [
    "iLC_output()"
   ]
  },
  {
   "cell_type": "code",
   "execution_count": 6,
   "id": "bc77d3de",
   "metadata": {},
   "outputs": [],
   "source": [
    "%%capture iGPC_output\n",
    "## Run IGPC\n",
    "from deluca.igpc.igpc import iGPC_closed\n",
    "T = 40\n",
    "iGPC_result = iGPC_closed(env_true, env_sim, cost, U, T, k, K, X, 'de', ref_alpha=0.2, lr=0.001)\n",
    "#Cell takes ~8 mins to run"
   ]
  },
  {
   "cell_type": "code",
   "execution_count": 7,
   "id": "c181d441",
   "metadata": {},
   "outputs": [
    {
     "name": "stdout",
     "output_type": "stream",
     "text": [
      "iGPC: t = -1, r = 1, c = 4487.1943359375\n",
      "iGPC: t = 0, r = 2, c = 4368.8798828125, alpha = 0.2199999988079071, lr = 0.001\n",
      "iGPC: t = 1, r = 6, c = 4311.369140625, alpha = 0.10263160616159439, lr = 0.001\n",
      "iGPC: t = 2, r = 7, c = 4286.97705078125, alpha = 0.11289476603269577, lr = 0.001\n",
      "iGPC: t = 3, r = 8, c = 4082.16650390625, alpha = 0.12418424338102341, lr = 0.001\n",
      "iGPC: t = 4, r = 9, c = 3625.7509765625, alpha = 0.13660266995429993, lr = 0.001\n",
      "iGPC: t = 5, r = 10, c = 2974.266357421875, alpha = 0.15026293694972992, lr = 0.001\n",
      "iGPC: t = 6, r = 11, c = 2248.27392578125, alpha = 0.16528922319412231, lr = 0.001\n",
      "iGPC: t = 7, r = 12, c = 1566.640869140625, alpha = 0.1818181425333023, lr = 0.001\n",
      "iGPC: t = 8, r = 13, c = 1005.8522338867188, alpha = 0.19999995827674866, lr = 0.001\n",
      "iGPC: t = 9, r = 14, c = 605.409912109375, alpha = 0.21999995410442352, lr = 0.001\n",
      "iGPC: t = 10, r = 15, c = 414.1746826171875, alpha = 0.24199995398521423, lr = 0.001\n",
      "Backtrack Failed: Annealing IGPC Learning Rate\n",
      "iGPC: t = 12, r = 22, c = 358.4108581542969, alpha = 0.2661999464035034, lr = 1e-05\n",
      "iGPC: t = 13, r = 25, c = 358.27880859375, alpha = 0.19999994337558746, lr = 1e-05\n",
      "iGPC: t = 14, r = 26, c = 342.6875, alpha = 0.21999993920326233, lr = 1e-05\n",
      "iGPC: t = 15, r = 27, c = 298.76202392578125, alpha = 0.24199993908405304, lr = 1e-05\n",
      "iGPC: t = 16, r = 28, c = 233.77798461914062, alpha = 0.2661999464035034, lr = 1e-05\n",
      "iGPC: t = 17, r = 29, c = 170.7061004638672, alpha = 0.29281994700431824, lr = 1e-05\n",
      "iGPC: t = 18, r = 30, c = 135.62380981445312, alpha = 0.3221019506454468, lr = 1e-05\n",
      "iGPC: t = 19, r = 31, c = 135.50991821289062, alpha = 0.35431215167045593, lr = 1e-05\n",
      "iGPC: t = 20, r = 36, c = 135.46136474609375, alpha = 0.0848194807767868, lr = 1e-05\n",
      "iGPC: t = 21, r = 37, c = 135.35731506347656, alpha = 0.0933014303445816, lr = 1e-05\n",
      "iGPC: t = 22, r = 38, c = 134.94065856933594, alpha = 0.102631576359272, lr = 1e-05\n",
      "iGPC: t = 23, r = 39, c = 133.9293975830078, alpha = 0.11289473623037338, lr = 1e-05\n",
      "iGPC: t = 24, r = 40, c = 132.06752014160156, alpha = 0.12418421357870102, lr = 1e-05\n",
      "iGPC: t = 25, r = 41, c = 129.1911163330078, alpha = 0.13660264015197754, lr = 1e-05\n",
      "iGPC: t = 26, r = 42, c = 125.30823516845703, alpha = 0.15026290714740753, lr = 1e-05\n",
      "iGPC: t = 27, r = 43, c = 120.63127899169922, alpha = 0.16528919339179993, lr = 1e-05\n",
      "iGPC: t = 28, r = 44, c = 115.58607482910156, alpha = 0.18181811273097992, lr = 1e-05\n",
      "iGPC: t = 29, r = 45, c = 110.74249267578125, alpha = 0.19999992847442627, lr = 1e-05\n",
      "iGPC: t = 30, r = 46, c = 106.67521667480469, alpha = 0.21999992430210114, lr = 1e-05\n",
      "iGPC: t = 31, r = 47, c = 103.79046630859375, alpha = 0.24199992418289185, lr = 1e-05\n",
      "iGPC: t = 32, r = 48, c = 102.17719268798828, alpha = 0.26619991660118103, lr = 1e-05\n",
      "iGPC: t = 33, r = 49, c = 101.57176971435547, alpha = 0.29281991720199585, lr = 1e-05\n",
      "iGPC: t = 34, r = 50, c = 101.48361206054688, alpha = 0.3221019208431244, lr = 1e-05\n",
      "iGPC: t = 35, r = 51, c = 101.44800567626953, alpha = 0.35431212186813354, lr = 1e-05\n",
      "iGPC: t = 36, r = 52, c = 101.25678253173828, alpha = 0.3897433280944824, lr = 1e-05\n",
      "iGPC: t = 37, r = 53, c = 100.98213195800781, alpha = 0.4287176728248596, lr = 1e-05\n",
      "iGPC: t = 38, r = 54, c = 100.78741455078125, alpha = 0.47158944606781006, lr = 1e-05\n",
      "iGPC: t = 39, r = 55, c = 100.72423553466797, alpha = 0.51874840259552, lr = 1e-05\n"
     ]
    }
   ],
   "source": [
    "iGPC_output()"
   ]
  },
  {
   "cell_type": "code",
   "execution_count": 8,
   "id": "77a75727",
   "metadata": {},
   "outputs": [],
   "source": [
    "%%capture iLQRO_output\n",
    "## Running the ILQR(Oracle) - This is the unachievable baseline\n",
    "iLQRO_result = iLQR(env_true, cost, U, 10, k, K, X, verbose=True)"
   ]
  },
  {
   "cell_type": "code",
   "execution_count": 9,
   "id": "eb13e397",
   "metadata": {},
   "outputs": [
    {
     "name": "stdout",
     "output_type": "stream",
     "text": [
      "iLQR (true): t = -1, r = 1, c = 4487.1943359375\n",
      "iLQR (true): t = 0, r = 2, alphac = 0.550000011920929, cost = 1514.420166015625\n",
      "iLQR (true): t = 0, r = 2, c = 1514.420166015625\n",
      "iLQR (true): t = 1, r = 3, alphac = 0.6050000190734863, cost = 580.6832885742188\n",
      "iLQR (true): t = 1, r = 3, c = 580.6832885742188\n",
      "iLQR (true): t = 2, r = 4, alphac = 0.6655000448226929, cost = 225.14894104003906\n",
      "iLQR (true): t = 2, r = 4, c = 225.14894104003906\n",
      "iLQR (true): t = 3, r = 5, alphac = 0.7320500612258911, cost = 118.74784088134766\n",
      "iLQR (true): t = 3, r = 5, c = 118.74784088134766\n",
      "iLQR (true): t = 4, r = 6, alphac = 0.8052550554275513, cost = 101.67707061767578\n",
      "iLQR (true): t = 4, r = 6, c = 101.67707061767578\n",
      "iLQR (true): t = 5, r = 7, alphac = 0.8857805728912354, cost = 100.10382843017578\n",
      "iLQR (true): t = 5, r = 7, c = 100.10382843017578\n",
      "iLQR (true): t = 6, r = 8, alphac = 0.9743586182594299, cost = 99.99063110351562\n",
      "iLQR (true): t = 6, r = 8, c = 99.99063110351562\n",
      "iLQR (true): t = 7, r = 9, alphac = 1.0717945098876953, cost = 99.96907043457031\n",
      "iLQR (true): t = 7, r = 9, c = 99.96907043457031\n",
      "iLQR (true): t = 8, r = 10, alphac = 1.178973913192749, cost = 99.96141052246094\n",
      "iLQR (true): t = 8, r = 10, c = 99.96141052246094\n",
      "iLQR (true): t = 9, r = 11, alphac = 1.296871304512024, cost = 99.95875549316406\n",
      "iLQR (true): t = 9, r = 11, c = 99.95875549316406\n"
     ]
    }
   ],
   "source": [
    "iLQRO_output()"
   ]
  },
  {
   "cell_type": "code",
   "execution_count": 10,
   "id": "defbdd52",
   "metadata": {},
   "outputs": [
    {
     "data": {
      "text/plain": [
       "[<matplotlib.lines.Line2D at 0x7fa99509ec10>]"
      ]
     },
     "execution_count": 10,
     "metadata": {},
     "output_type": "execute_result"
    },
    {
     "data": {
      "image/png": "[encoded data removed]",
      "text/plain": [
       "<Figure size 432x288 with 1 Axes>"
      ]
     },
     "metadata": {
      "needs_background": "light"
     },
     "output_type": "display_data"
    }
   ],
   "source": [
    "import matplotlib.pyplot as plt\n",
    "from deluca.igpc.plot_utils import process_for_plot, zero_cost\n",
    "\n",
    "iLC_perf = process_for_plot(str(iLC_output.stdout), 60)\n",
    "iGPC_perf = process_for_plot(str(iGPC_output.stdout), 60)\n",
    "iLQRO_perf = process_for_plot(str(iLQRO_output.stdout), 60)\n",
    "iLQG_cost = zero_cost(str(iLC_output.stdout))\n",
    "\n",
    "plt.plot(list(range(60)), [iLQG_cost]*60)\n",
    "plt.plot(iLC_perf[0], iLC_perf[1], 'green')\n",
    "plt.plot(iGPC_perf[0], iGPC_perf[1], 'red')\n",
    "plt.plot(iLQRO_perf[0], iLQRO_perf[1], 'black')"
   ]
  },
  {
   "cell_type": "code",
   "execution_count": null,
   "id": "2839d86f",
   "metadata": {},
   "outputs": [],
   "source": []
  }
 ],
 "metadata": {
  "kernelspec": {
   "display_name": "Python 3",
   "language": "python",
   "name": "python3"
  },
  "language_info": {
   "codemirror_mode": {
    "name": "ipython",
    "version": 3
   },
   "file_extension": ".py",
   "mimetype": "text/x-python",
   "name": "python",
   "nbconvert_exporter": "python",
   "pygments_lexer": "ipython3",
   "version": "3.9.4"
  }
 },
 "nbformat": 4,
 "nbformat_minor": 5
}
