{
 "cells": [
  {
   "cell_type": "code",
   "execution_count": 1,
   "id": "6ca2e881",
   "metadata": {},
   "outputs": [],
   "source": [
    "%load_ext autoreload\n",
    "%autoreload 2"
   ]
  },
  {
   "cell_type": "code",
   "execution_count": 2,
   "id": "251a6682",
   "metadata": {},
   "outputs": [
    {
     "name": "stderr",
     "output_type": "stream",
     "text": [
      "WARNING:absl:No GPU/TPU found, falling back to CPU. (Set TF_CPP_MIN_LOG_LEVEL=0 and rerun for more info.)\n"
     ]
    }
   ],
   "source": [
    "import jax\n",
    "import jax.numpy as jnp\n",
    "import tqdm\n",
    "import flax\n",
    "import deluca.core\n",
    "import matplotlib.pyplot as plt\n",
    "from igpc import iGPC_closed\n",
    "from deluca.envs import PlanarQuadrotor"
   ]
  },
  {
   "cell_type": "code",
   "execution_count": 3,
   "id": "d4363a7c",
   "metadata": {},
   "outputs": [
    {
     "name": "stdout",
     "output_type": "stream",
     "text": [
      "iGPC: t = -1, r = 1, c = 168708.515625\n",
      "iGPC: t = 0, r = 2, c = 27426.640625, alpha = 1.100000023841858\n",
      "iGPC: t = 1, r = 3, c = 17136.1953125, alpha = 1.2100000381469727\n",
      "iGPC: t = 2, r = 4, c = 3157.14453125, alpha = 1.3310000896453857\n",
      "iGPC: t = 3, r = 5, c = 2199.740234375, alpha = 1.4641001224517822\n",
      "iGPC: t = 4, r = 6, c = 1974.510009765625, alpha = 1.6105101108551025\n",
      "iGPC: t = 5, r = 9, c = 980.0306396484375, alpha = 1.209999918937683\n",
      "iGPC: t = 6, r = 10, c = 211.4761505126953, alpha = 1.3309998512268066\n",
      "iGPC: t = 7, r = 11, c = 116.54098510742188, alpha = 1.4640998840332031\n",
      "iGPC: t = 8, r = 12, c = 91.48587799072266, alpha = 1.6105098724365234\n",
      "iGPC: t = 9, r = 14, c = 87.46642303466797, alpha = 1.6105098724365234\n"
     ]
    }
   ],
   "source": [
    "## Testing IGPC_closed - With LR = 0.0 should match ILC Closed\n",
    "\n",
    "def cost(x, u, sim):\n",
    "    return 0.1 * (u - sim.goal_action) @ (u - sim.goal_action) + (x.arr - sim.goal_state) @ (x.arr - sim.goal_state)\n",
    "\n",
    "\n",
    "wind, T = 0.1, 10\n",
    "env_true, env_sim = PlanarQuadrotor.create(wind=wind), PlanarQuadrotor.create()\n",
    "U_initial = jnp.tile(env_sim.goal_action, (env_sim.H, 1))\n",
    "X, U, _, _, c = iGPC_closed(env_true, env_sim, cost, U_initial, 10, lr=0.0)"
   ]
  },
  {
   "cell_type": "code",
   "execution_count": 4,
   "id": "c688b7e6",
   "metadata": {},
   "outputs": [
    {
     "name": "stdout",
     "output_type": "stream",
     "text": [
      "iGPC: t = -1, r = 1, c = 168708.515625\n",
      "iGPC: t = 0, r = 2, c = 26733.255859375, alpha = 1.100000023841858\n",
      "iGPC: t = 1, r = 3, c = 15575.7412109375, alpha = 1.2100000381469727\n",
      "iGPC: t = 2, r = 4, c = 2660.698486328125, alpha = 1.3310000896453857\n",
      "iGPC: t = 3, r = 5, c = 2046.8980712890625, alpha = 1.4641001224517822\n",
      "iGPC: t = 4, r = 6, c = 1708.9422607421875, alpha = 1.6105101108551025\n",
      "iGPC: t = 5, r = 9, c = 771.8240356445312, alpha = 1.209999918937683\n",
      "iGPC: t = 6, r = 10, c = 184.49684143066406, alpha = 1.3309998512268066\n",
      "iGPC: t = 7, r = 11, c = 129.6488037109375, alpha = 1.4640998840332031\n",
      "iGPC: t = 8, r = 12, c = 105.90928649902344, alpha = 1.6105098724365234\n",
      "iGPC: t = 9, r = 15, c = 77.5784912109375, alpha = 1.2099997997283936\n"
     ]
    }
   ],
   "source": [
    "# Does slightly better trajectory at a higher learning rate\n",
    "\n",
    "def cost(x, u, sim):\n",
    "    return 0.1 * (u - sim.goal_action) @ (u - sim.goal_action) + (x.arr - sim.goal_state) @ (x.arr - sim.goal_state)\n",
    "\n",
    "\n",
    "wind, T = 0.1, 10\n",
    "env_true, env_sim = PlanarQuadrotor.create(wind=wind), PlanarQuadrotor.create()\n",
    "U_initial = jnp.tile(env_sim.goal_action, (env_sim.H, 1))\n",
    "X, U, _, _, c = iGPC_closed(env_true, env_sim, cost, U_initial, 10, lr=0.01)"
   ]
  },
  {
   "cell_type": "code",
   "execution_count": null,
   "id": "638d8ffe",
   "metadata": {},
   "outputs": [],
   "source": []
  }
 ],
 "metadata": {
  "kernelspec": {
   "display_name": "Python 3",
   "language": "python",
   "name": "python3"
  },
  "language_info": {
   "codemirror_mode": {
    "name": "ipython",
    "version": 3
   },
   "file_extension": ".py",
   "mimetype": "text/x-python",
   "name": "python",
   "nbconvert_exporter": "python",
   "pygments_lexer": "ipython3",
   "version": "3.9.4"
  }
 },
 "nbformat": 4,
 "nbformat_minor": 5
}
