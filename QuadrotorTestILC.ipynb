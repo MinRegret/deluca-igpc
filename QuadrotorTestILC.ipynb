{
 "cells": [
  {
   "cell_type": "code",
   "execution_count": 1,
   "id": "6ca2e881",
   "metadata": {},
   "outputs": [],
   "source": [
    "%load_ext autoreload\n",
    "%autoreload 2"
   ]
  },
  {
   "cell_type": "code",
   "execution_count": 2,
   "id": "251a6682",
   "metadata": {},
   "outputs": [
    {
     "name": "stderr",
     "output_type": "stream",
     "text": [
      "WARNING:absl:No GPU/TPU found, falling back to CPU. (Set TF_CPP_MIN_LOG_LEVEL=0 and rerun for more info.)\n"
     ]
    }
   ],
   "source": [
    "import jax\n",
    "import jax.numpy as jnp\n",
    "import tqdm\n",
    "import flax\n",
    "import deluca.core\n",
    "import matplotlib.pyplot as plt\n",
    "from ilc import iLC_open, iLC_closed\n",
    "from deluca.envs import PlanarQuadrotor"
   ]
  },
  {
   "cell_type": "code",
   "execution_count": 3,
   "id": "ca0bc412",
   "metadata": {},
   "outputs": [
    {
     "name": "stdout",
     "output_type": "stream",
     "text": [
      "iLC (open+non): t = 0, r = 6, c = 26714.375, alpha = 0.2393919676542282\n",
      "iLC (open+non): t = 1, r = 7, c = 2015.251708984375, alpha = 0.26333117485046387\n",
      "iLC (open+non): t = 2, r = 12, c = 1925.8603515625, alpha = 0.0630393698811531\n"
     ]
    }
   ],
   "source": [
    "## Testing ILC Open\n",
    "\n",
    "def cost(x, u, sim):\n",
    "    return 0.1 * (u - sim.goal_action) @ (u - sim.goal_action) + (x.arr - sim.goal_state) @ (x.arr - sim.goal_state)\n",
    "\n",
    "\n",
    "env_true, env_sim = PlanarQuadrotor.create(wind=0.1), PlanarQuadrotor.create()\n",
    "U_initial = jnp.tile(env_sim.goal_action, (env_sim.H, 1))\n",
    "X, U, _, _, c = iLC_open(env_true, env_sim, cost, U_initial, 10)"
   ]
  },
  {
   "cell_type": "code",
   "execution_count": 6,
   "id": "2f475bb3",
   "metadata": {},
   "outputs": [
    {
     "name": "stdout",
     "output_type": "stream",
     "text": [
      "iLC: t = -1, r = 1, c = 168708.515625\n",
      "iLC (closed+alpha=1.0): t = 0, r = 2, c = 27426.640625, alpha = 1.100000023841858\n",
      "iLC (closed+alpha=1.0): t = 1, r = 3, c = 17136.1953125, alpha = 1.2100000381469727\n",
      "iLC (closed+alpha=1.0): t = 2, r = 4, c = 3157.14453125, alpha = 1.3310000896453857\n",
      "iLC (closed+alpha=1.0): t = 3, r = 5, c = 2199.740234375, alpha = 1.4641001224517822\n",
      "iLC (closed+alpha=1.0): t = 4, r = 6, c = 1974.510009765625, alpha = 1.6105101108551025\n",
      "iLC (closed+alpha=1.0): t = 5, r = 9, c = 980.0306396484375, alpha = 1.209999918937683\n",
      "iLC (closed+alpha=1.0): t = 6, r = 10, c = 211.4761505126953, alpha = 1.3309998512268066\n",
      "iLC (closed+alpha=1.0): t = 7, r = 11, c = 116.54098510742188, alpha = 1.4640998840332031\n",
      "iLC (closed+alpha=1.0): t = 8, r = 12, c = 91.48587799072266, alpha = 1.6105098724365234\n",
      "iLC (closed+alpha=1.0): t = 9, r = 14, c = 87.46642303466797, alpha = 1.6105098724365234\n",
      "iLC (closed+alpha=1.0): t = 10, r = 16, c = 80.16854858398438, alpha = 1.6105098724365234\n",
      "iLC (closed+alpha=1.0): t = 11, r = 19, c = 65.59359741210938, alpha = 1.2099997997283936\n",
      "iLC (closed+alpha=1.0): t = 12, r = 20, c = 63.37800216674805, alpha = 1.330999732017517\n",
      "iLC (closed+alpha=1.0): t = 13, r = 22, c = 62.772342681884766, alpha = 1.330999732017517\n",
      "iLC (closed+alpha=1.0): t = 14, r = 24, c = 62.360595703125, alpha = 1.330999732017517\n",
      "iLC (closed+alpha=1.0): t = 15, r = 26, c = 62.18856430053711, alpha = 1.330999732017517\n",
      "iLC (closed+alpha=1.0): t = 16, r = 28, c = 61.94560241699219, alpha = 1.330999732017517\n",
      "iLC (closed+alpha=1.0): t = 17, r = 30, c = 61.801414489746094, alpha = 1.330999732017517\n",
      "iLC (closed+alpha=1.0): t = 18, r = 32, c = 61.616939544677734, alpha = 1.330999732017517\n",
      "iLC (closed+alpha=1.0): t = 19, r = 34, c = 61.499515533447266, alpha = 1.330999732017517\n"
     ]
    }
   ],
   "source": [
    "## Testing ILC Closed\n",
    "\n",
    "def cost(x, u, sim):\n",
    "    return 0.1 * (u - sim.goal_action) @ (u - sim.goal_action) + (x.arr - sim.goal_state) @ (x.arr - sim.goal_state)\n",
    "\n",
    "\n",
    "env_true, env_sim = PlanarQuadrotor.create(wind=0.1), PlanarQuadrotor.create()\n",
    "U_initial = jnp.tile(env_sim.goal_action, (env_sim.H, 1))\n",
    "X, U, _, _, c = iLC_closed(env_true, env_sim, cost, U_initial, 20)"
   ]
  },
  {
   "cell_type": "code",
   "execution_count": null,
   "id": "bc77d3de",
   "metadata": {},
   "outputs": [],
   "source": []
  }
 ],
 "metadata": {
  "kernelspec": {
   "display_name": "Python 3",
   "language": "python",
   "name": "python3"
  },
  "language_info": {
   "codemirror_mode": {
    "name": "ipython",
    "version": 3
   },
   "file_extension": ".py",
   "mimetype": "text/x-python",
   "name": "python",
   "nbconvert_exporter": "python",
   "pygments_lexer": "ipython3",
   "version": "3.9.4"
  }
 },
 "nbformat": 4,
 "nbformat_minor": 5
}
